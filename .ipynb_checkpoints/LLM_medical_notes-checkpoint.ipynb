{
 "cells": [
  {
   "cell_type": "code",
   "execution_count": 1,
   "id": "a4263173",
   "metadata": {
    "collapsed": true
   },
   "outputs": [
    {
     "name": "stdout",
     "output_type": "stream",
     "text": [
      "Collecting ollama\n",
      "  Downloading ollama-0.4.7-py3-none-any.whl (13 kB)\n",
      "Collecting pydantic<3.0.0,>=2.9.0\n",
      "  Downloading pydantic-2.10.6-py3-none-any.whl (431 kB)\n",
      "\u001b[K     |████████████████████████████████| 431 kB 3.8 MB/s eta 0:00:01\n",
      "\u001b[?25hCollecting httpx<0.29,>=0.27\n",
      "  Downloading httpx-0.28.1-py3-none-any.whl (73 kB)\n",
      "\u001b[K     |████████████████████████████████| 73 kB 3.9 MB/s  eta 0:00:01\n",
      "\u001b[?25hRequirement already satisfied: anyio in /Users/timothywaterman/opt/anaconda3/lib/python3.9/site-packages (from httpx<0.29,>=0.27->ollama) (2.2.0)\n",
      "Collecting httpcore==1.*\n",
      "  Downloading httpcore-1.0.7-py3-none-any.whl (78 kB)\n",
      "\u001b[K     |████████████████████████████████| 78 kB 11.6 MB/s eta 0:00:01\n",
      "\u001b[?25hRequirement already satisfied: certifi in /Users/timothywaterman/opt/anaconda3/lib/python3.9/site-packages (from httpx<0.29,>=0.27->ollama) (2021.10.8)\n",
      "Requirement already satisfied: idna in /Users/timothywaterman/opt/anaconda3/lib/python3.9/site-packages (from httpx<0.29,>=0.27->ollama) (3.2)\n",
      "Collecting h11<0.15,>=0.13\n",
      "  Downloading h11-0.14.0-py3-none-any.whl (58 kB)\n",
      "\u001b[K     |████████████████████████████████| 58 kB 12.4 MB/s eta 0:00:01\n",
      "\u001b[?25hCollecting annotated-types>=0.6.0\n",
      "  Downloading annotated_types-0.7.0-py3-none-any.whl (13 kB)\n",
      "Collecting pydantic-core==2.27.2\n",
      "  Downloading pydantic_core-2.27.2-cp39-cp39-macosx_10_12_x86_64.whl (1.9 MB)\n",
      "\u001b[K     |████████████████████████████████| 1.9 MB 24.1 MB/s eta 0:00:01\n",
      "\u001b[?25hCollecting typing-extensions>=4.12.2\n",
      "  Downloading typing_extensions-4.12.2-py3-none-any.whl (37 kB)\n",
      "Requirement already satisfied: sniffio>=1.1 in /Users/timothywaterman/opt/anaconda3/lib/python3.9/site-packages (from anyio->httpx<0.29,>=0.27->ollama) (1.2.0)\n",
      "Installing collected packages: typing-extensions, h11, pydantic-core, httpcore, annotated-types, pydantic, httpx, ollama\n",
      "  Attempting uninstall: typing-extensions\n",
      "    Found existing installation: typing-extensions 3.10.0.2\n",
      "    Uninstalling typing-extensions-3.10.0.2:\n",
      "      Successfully uninstalled typing-extensions-3.10.0.2\n",
      "Successfully installed annotated-types-0.7.0 h11-0.14.0 httpcore-1.0.7 httpx-0.28.1 ollama-0.4.7 pydantic-2.10.6 pydantic-core-2.27.2 typing-extensions-4.12.2\n",
      "Note: you may need to restart the kernel to use updated packages.\n"
     ]
    }
   ],
   "source": [
    "#pip install ollama\n",
    "#pip install pandas"
   ]
  },
  {
   "cell_type": "code",
   "execution_count": 1,
   "id": "d6269380",
   "metadata": {},
   "outputs": [],
   "source": [
    "import ollama\n",
    "from IPython.display import Markdown, display\n",
    "import json\n",
    "import pandas as pd"
   ]
  },
  {
   "cell_type": "code",
   "execution_count": 2,
   "id": "3f81a684",
   "metadata": {},
   "outputs": [
    {
     "name": "stdout",
     "output_type": "stream",
     "text": [
      "                                                    note  \\\n",
      "0      A a sixteen year-old girl, presented to our Ou...   \n",
      "1      This is the case of a 56-year-old man that was...   \n",
      "2      A 36-year old female patient visited our hospi...   \n",
      "3      A 49-year-old male presented with a complaint ...   \n",
      "4      A 47-year-old male patient was referred to the...   \n",
      "...                                                  ...   \n",
      "29995  A 28-year-old male was admitted to the emergen...   \n",
      "29996  An 82-year-old man (64.5 kg, 175 cm) diagnosed...   \n",
      "29997  A 54 year-old man with no past medical history...   \n",
      "29998  A 49-year-old woman visited the clinic due to ...   \n",
      "29999  A 31-year-old male with no significant past me...   \n",
      "\n",
      "                                            conversation     idx  \\\n",
      "0      Doctor: Good morning, what brings you to the O...  155216   \n",
      "1      Doctor: Hi, how are you feeling today?\\nPatien...   77465   \n",
      "2      Doctor: Hello, what brings you to the hospital...  133948   \n",
      "3      Doctor: Good morning, Mr. [Patient's Name]. I'...   80176   \n",
      "4      Doctor: Good morning, how are you feeling toda...   72232   \n",
      "...                                                  ...     ...   \n",
      "29995  Doctor: Good morning, sir. Can you tell me wha...   39279   \n",
      "29996  Doctor: Good morning, sir. I am Dr. John. How ...  137017   \n",
      "29997  Doctor: Good morning, how are you feeling toda...   98004   \n",
      "29998  Doctor: Good morning, how can I help you today...  133320   \n",
      "29999  Doctor: Good morning, what brings you to the e...   97973   \n",
      "\n",
      "                                                 summary  \\\n",
      "0      {\\n\"visit motivation\": \"Discomfort in the neck...   \n",
      "1      {\\n\"visit motivation\": \"Complaints of a dull p...   \n",
      "2      {\\n\"visit motivation\": \"Pain and restricted ra...   \n",
      "3      {\\n\"visit motivation\": \"Pain in the left proxi...   \n",
      "4      {\\n\"visit motivation\": \"Recurrent attacks of p...   \n",
      "...                                                  ...   \n",
      "29995  {\\n\"visit motivation\": \"Stab wound under left ...   \n",
      "29996  {\\n\"visit motivation\": \"Diagnosed with falcine...   \n",
      "29997  {\\n\"visit motivation\": \"Cardiac sounding chest...   \n",
      "29998  {\\n\"visit motivation\": \"Mass in her right thig...   \n",
      "29999  {\\n\"visit motivation\": \"Acute onset crushing s...   \n",
      "\n",
      "                                               full_note  \n",
      "0      A a sixteen year-old girl, presented to our Ou...  \n",
      "1      This is the case of a 56-year-old man that was...  \n",
      "2      A 36-year old female patient visited our hospi...  \n",
      "3      A 49-year-old male presented with a complaint ...  \n",
      "4      A 47-year-old male patient was referred to the...  \n",
      "...                                                  ...  \n",
      "29995  A 28-year-old male was admitted to the emergen...  \n",
      "29996  An 82-year-old man (64.5 kg, 175 cm) diagnosed...  \n",
      "29997  A 54 year-old man with no past medical history...  \n",
      "29998  A 49-year-old woman visited the clinic due to ...  \n",
      "29999  A 31-year-old male with no significant past me...  \n",
      "\n",
      "[30000 rows x 5 columns]\n"
     ]
    }
   ],
   "source": [
    "file_path = '/Users/timothywaterman/Desktop/LLM/augmented_notes_30K.jsonl'\n",
    "\n",
    "# Open the file and load each line as a JSON object\n",
    "with open(file_path, 'r') as file:\n",
    "    data = [json.loads(line) for line in file]\n",
    "\n",
    "# Convert the list of JSON objects into a pandas DataFrame\n",
    "df = pd.DataFrame(data)\n",
    "\n",
    "print(df)"
   ]
  },
  {
   "cell_type": "code",
   "execution_count": 3,
   "id": "cf8a954c",
   "metadata": {},
   "outputs": [
    {
     "ename": "KeyError",
     "evalue": "0",
     "output_type": "error",
     "traceback": [
      "\u001b[0;31m---------------------------------------------------------------------------\u001b[0m",
      "\u001b[0;31mKeyError\u001b[0m                                  Traceback (most recent call last)",
      "\u001b[0;32m~/opt/anaconda3/lib/python3.9/site-packages/pandas/core/indexes/base.py\u001b[0m in \u001b[0;36mget_loc\u001b[0;34m(self, key, method, tolerance)\u001b[0m\n\u001b[1;32m   3360\u001b[0m             \u001b[0;32mtry\u001b[0m\u001b[0;34m:\u001b[0m\u001b[0;34m\u001b[0m\u001b[0;34m\u001b[0m\u001b[0m\n\u001b[0;32m-> 3361\u001b[0;31m                 \u001b[0;32mreturn\u001b[0m \u001b[0mself\u001b[0m\u001b[0;34m.\u001b[0m\u001b[0m_engine\u001b[0m\u001b[0;34m.\u001b[0m\u001b[0mget_loc\u001b[0m\u001b[0;34m(\u001b[0m\u001b[0mcasted_key\u001b[0m\u001b[0;34m)\u001b[0m\u001b[0;34m\u001b[0m\u001b[0;34m\u001b[0m\u001b[0m\n\u001b[0m\u001b[1;32m   3362\u001b[0m             \u001b[0;32mexcept\u001b[0m \u001b[0mKeyError\u001b[0m \u001b[0;32mas\u001b[0m \u001b[0merr\u001b[0m\u001b[0;34m:\u001b[0m\u001b[0;34m\u001b[0m\u001b[0;34m\u001b[0m\u001b[0m\n",
      "\u001b[0;32m~/opt/anaconda3/lib/python3.9/site-packages/pandas/_libs/index.pyx\u001b[0m in \u001b[0;36mpandas._libs.index.IndexEngine.get_loc\u001b[0;34m()\u001b[0m\n",
      "\u001b[0;32m~/opt/anaconda3/lib/python3.9/site-packages/pandas/_libs/index.pyx\u001b[0m in \u001b[0;36mpandas._libs.index.IndexEngine.get_loc\u001b[0;34m()\u001b[0m\n",
      "\u001b[0;32mpandas/_libs/hashtable_class_helper.pxi\u001b[0m in \u001b[0;36mpandas._libs.hashtable.PyObjectHashTable.get_item\u001b[0;34m()\u001b[0m\n",
      "\u001b[0;32mpandas/_libs/hashtable_class_helper.pxi\u001b[0m in \u001b[0;36mpandas._libs.hashtable.PyObjectHashTable.get_item\u001b[0;34m()\u001b[0m\n",
      "\u001b[0;31mKeyError\u001b[0m: 0",
      "\nThe above exception was the direct cause of the following exception:\n",
      "\u001b[0;31mKeyError\u001b[0m                                  Traceback (most recent call last)",
      "\u001b[0;32m/var/folders/6y/7f8ql7d92zs0sclx2vbczpk80000gn/T/ipykernel_58965/1378739201.py\u001b[0m in \u001b[0;36m<module>\u001b[0;34m\u001b[0m\n\u001b[0;32m----> 1\u001b[0;31m \u001b[0mdf\u001b[0m\u001b[0;34m[\u001b[0m\u001b[0;36m0\u001b[0m\u001b[0;34m]\u001b[0m\u001b[0;34m[\u001b[0m\u001b[0;36m0\u001b[0m\u001b[0;34m]\u001b[0m\u001b[0;34m\u001b[0m\u001b[0;34m\u001b[0m\u001b[0m\n\u001b[0m",
      "\u001b[0;32m~/opt/anaconda3/lib/python3.9/site-packages/pandas/core/frame.py\u001b[0m in \u001b[0;36m__getitem__\u001b[0;34m(self, key)\u001b[0m\n\u001b[1;32m   3456\u001b[0m             \u001b[0;32mif\u001b[0m \u001b[0mself\u001b[0m\u001b[0;34m.\u001b[0m\u001b[0mcolumns\u001b[0m\u001b[0;34m.\u001b[0m\u001b[0mnlevels\u001b[0m \u001b[0;34m>\u001b[0m \u001b[0;36m1\u001b[0m\u001b[0;34m:\u001b[0m\u001b[0;34m\u001b[0m\u001b[0;34m\u001b[0m\u001b[0m\n\u001b[1;32m   3457\u001b[0m                 \u001b[0;32mreturn\u001b[0m \u001b[0mself\u001b[0m\u001b[0;34m.\u001b[0m\u001b[0m_getitem_multilevel\u001b[0m\u001b[0;34m(\u001b[0m\u001b[0mkey\u001b[0m\u001b[0;34m)\u001b[0m\u001b[0;34m\u001b[0m\u001b[0;34m\u001b[0m\u001b[0m\n\u001b[0;32m-> 3458\u001b[0;31m             \u001b[0mindexer\u001b[0m \u001b[0;34m=\u001b[0m \u001b[0mself\u001b[0m\u001b[0;34m.\u001b[0m\u001b[0mcolumns\u001b[0m\u001b[0;34m.\u001b[0m\u001b[0mget_loc\u001b[0m\u001b[0;34m(\u001b[0m\u001b[0mkey\u001b[0m\u001b[0;34m)\u001b[0m\u001b[0;34m\u001b[0m\u001b[0;34m\u001b[0m\u001b[0m\n\u001b[0m\u001b[1;32m   3459\u001b[0m             \u001b[0;32mif\u001b[0m \u001b[0mis_integer\u001b[0m\u001b[0;34m(\u001b[0m\u001b[0mindexer\u001b[0m\u001b[0;34m)\u001b[0m\u001b[0;34m:\u001b[0m\u001b[0;34m\u001b[0m\u001b[0;34m\u001b[0m\u001b[0m\n\u001b[1;32m   3460\u001b[0m                 \u001b[0mindexer\u001b[0m \u001b[0;34m=\u001b[0m \u001b[0;34m[\u001b[0m\u001b[0mindexer\u001b[0m\u001b[0;34m]\u001b[0m\u001b[0;34m\u001b[0m\u001b[0;34m\u001b[0m\u001b[0m\n",
      "\u001b[0;32m~/opt/anaconda3/lib/python3.9/site-packages/pandas/core/indexes/base.py\u001b[0m in \u001b[0;36mget_loc\u001b[0;34m(self, key, method, tolerance)\u001b[0m\n\u001b[1;32m   3361\u001b[0m                 \u001b[0;32mreturn\u001b[0m \u001b[0mself\u001b[0m\u001b[0;34m.\u001b[0m\u001b[0m_engine\u001b[0m\u001b[0;34m.\u001b[0m\u001b[0mget_loc\u001b[0m\u001b[0;34m(\u001b[0m\u001b[0mcasted_key\u001b[0m\u001b[0;34m)\u001b[0m\u001b[0;34m\u001b[0m\u001b[0;34m\u001b[0m\u001b[0m\n\u001b[1;32m   3362\u001b[0m             \u001b[0;32mexcept\u001b[0m \u001b[0mKeyError\u001b[0m \u001b[0;32mas\u001b[0m \u001b[0merr\u001b[0m\u001b[0;34m:\u001b[0m\u001b[0;34m\u001b[0m\u001b[0;34m\u001b[0m\u001b[0m\n\u001b[0;32m-> 3363\u001b[0;31m                 \u001b[0;32mraise\u001b[0m \u001b[0mKeyError\u001b[0m\u001b[0;34m(\u001b[0m\u001b[0mkey\u001b[0m\u001b[0;34m)\u001b[0m \u001b[0;32mfrom\u001b[0m \u001b[0merr\u001b[0m\u001b[0;34m\u001b[0m\u001b[0;34m\u001b[0m\u001b[0m\n\u001b[0m\u001b[1;32m   3364\u001b[0m \u001b[0;34m\u001b[0m\u001b[0m\n\u001b[1;32m   3365\u001b[0m         \u001b[0;32mif\u001b[0m \u001b[0mis_scalar\u001b[0m\u001b[0;34m(\u001b[0m\u001b[0mkey\u001b[0m\u001b[0;34m)\u001b[0m \u001b[0;32mand\u001b[0m \u001b[0misna\u001b[0m\u001b[0;34m(\u001b[0m\u001b[0mkey\u001b[0m\u001b[0;34m)\u001b[0m \u001b[0;32mand\u001b[0m \u001b[0;32mnot\u001b[0m \u001b[0mself\u001b[0m\u001b[0;34m.\u001b[0m\u001b[0mhasnans\u001b[0m\u001b[0;34m:\u001b[0m\u001b[0;34m\u001b[0m\u001b[0;34m\u001b[0m\u001b[0m\n",
      "\u001b[0;31mKeyError\u001b[0m: 0"
     ]
    }
   ],
   "source": [
    "df[0][0]"
   ]
  },
  {
   "cell_type": "code",
   "execution_count": 3,
   "id": "83683c37",
   "metadata": {},
   "outputs": [],
   "source": [
    "pd.set_option('display.max_rows', None)  # or set a large number instead of None\n",
    "pd.set_option('display.max_columns', None)  # display all columns"
   ]
  },
  {
   "cell_type": "code",
   "execution_count": 4,
   "id": "493ff0f2",
   "metadata": {},
   "outputs": [],
   "source": [
    "def get_chat_response(inquiry_note, model='llama3.2'):\n",
    "    \"\"\"\n",
    "    This function takes an inquiry note and returns the response from the Ollama chatbot.\n",
    "\n",
    "    Parameters:\n",
    "    - inquiry_note (str): The message to send to the chatbot.\n",
    "    - model (str, optional): The model to use for the chat. Default is 'llama3.2'.\n",
    "\n",
    "    Returns:\n",
    "    - dict: The response from the Ollama chat.\n",
    "    \"\"\"\n",
    "    response = ollama.chat(\n",
    "        model=model,\n",
    "        messages=[{'role': 'user', 'content': inquiry_note}]\n",
    "    )\n",
    "    return response"
   ]
  },
  {
   "cell_type": "code",
   "execution_count": 14,
   "id": "9947a3e6",
   "metadata": {},
   "outputs": [],
   "source": [
    "additional_text = \"\"\"please take on the role of a primary care physician. The below text represents the \n",
    "medical notes for a patient. Based off of the note, please briefly summarize the\n",
    "top risk factors in 4 sentences of less that might result in a serious medical complication in the next year. PATIENT NOTE: \"\"\""
   ]
  },
  {
   "cell_type": "code",
   "execution_count": 6,
   "id": "063de4bf",
   "metadata": {},
   "outputs": [],
   "source": [
    "df_top_2_rows = df.head(2)"
   ]
  },
  {
   "cell_type": "code",
   "execution_count": 232,
   "id": "3326f64c",
   "metadata": {},
   "outputs": [
    {
     "name": "stderr",
     "output_type": "stream",
     "text": [
      "/Users/timothywaterman/opt/anaconda3/lib/python3.9/site-packages/pandas/core/indexing.py:1667: SettingWithCopyWarning: \n",
      "A value is trying to be set on a copy of a slice from a DataFrame.\n",
      "Try using .loc[row_indexer,col_indexer] = value instead\n",
      "\n",
      "See the caveats in the documentation: https://pandas.pydata.org/pandas-docs/stable/user_guide/indexing.html#returning-a-view-versus-a-copy\n",
      "  self.obj[key] = value\n"
     ]
    }
   ],
   "source": [
    "df_top_2_rows.loc[:, 'top_concerns'] = df_top_2_rows['full_note'].apply(lambda x: get_chat_response(additional_text + x))"
   ]
  },
  {
   "cell_type": "code",
   "execution_count": 233,
   "id": "b8d04eb1",
   "metadata": {
    "scrolled": true
   },
   "outputs": [],
   "source": [
    "df_top_2_rows.loc[:, 'top_concerns_str'] = df_top_2_rows['top_concerns'].apply(lambda x: str(x['content']) if isinstance(x, dict) and 'content' in x else str(x))"
   ]
  },
  {
   "cell_type": "code",
   "execution_count": 234,
   "id": "88ca0204",
   "metadata": {},
   "outputs": [],
   "source": [
    "additional_text_3 = \"\"\"Based off of the following below risk factors, please provide a single risk rating \n",
    "(high, medium, low) of a medical complication occurring in the next year. Please return no other text than \n",
    "the corresponding value 'high', 'medium', or 'low' as this is just meant to be a datapoint\"\"\""
   ]
  },
  {
   "cell_type": "code",
   "execution_count": 235,
   "id": "9165a463",
   "metadata": {},
   "outputs": [],
   "source": [
    "df_top_2_rows.loc[:, 'risk_level_abr'] = df_top_2_rows['top_concerns_str'].apply(lambda x: get_chat_response(additional_text_3 + x))\n"
   ]
  },
  {
   "cell_type": "code",
   "execution_count": 237,
   "id": "36b44b1d",
   "metadata": {},
   "outputs": [
    {
     "name": "stdout",
     "output_type": "stream",
     "text": [
      "model='llama3.2' created_at='2025-03-22T20:42:49.231383Z' done=True done_reason='stop' total_duration=49857883556 load_duration=93391526 prompt_eval_count=592 prompt_eval_duration=49596000000 eval_count=2 eval_duration=166000000 message=Message(role='assistant', content='high', images=None, tool_calls=None)\n",
      "model='llama3.2' created_at='2025-03-22T20:43:26.57924Z' done=True done_reason='stop' total_duration=37345565976 load_duration=22154922 prompt_eval_count=536 prompt_eval_duration=37154000000 eval_count=2 eval_duration=168000000 message=Message(role='assistant', content='medium', images=None, tool_calls=None)\n",
      "model='llama3.2' created_at='2025-03-22T20:44:06.170503Z' done=True done_reason='stop' total_duration=39588997803 load_duration=22076004 prompt_eval_count=550 prompt_eval_duration=39397000000 eval_count=2 eval_duration=166000000 message=Message(role='assistant', content='high', images=None, tool_calls=None)\n",
      "model='llama3.2' created_at='2025-03-22T20:44:43.176102Z' done=True done_reason='stop' total_duration=37003329166 load_duration=88303352 prompt_eval_count=525 prompt_eval_duration=36746000000 eval_count=2 eval_duration=167000000 message=Message(role='assistant', content='high', images=None, tool_calls=None)\n",
      "model='llama3.2' created_at='2025-03-22T20:45:35.830675Z' done=True done_reason='stop' total_duration=52651713059 load_duration=22102303 prompt_eval_count=711 prompt_eval_duration=52458000000 eval_count=2 eval_duration=167000000 message=Message(role='assistant', content='high', images=None, tool_calls=None)\n",
      "model='llama3.2' created_at='2025-03-22T20:46:11.956022Z' done=True done_reason='stop' total_duration=36121516746 load_duration=101613326 prompt_eval_count=519 prompt_eval_duration=35853000000 eval_count=2 eval_duration=166000000 message=Message(role='assistant', content='high', images=None, tool_calls=None)\n",
      "model='llama3.2' created_at='2025-03-22T20:46:46.931566Z' done=True done_reason='stop' total_duration=34973378058 load_duration=34843295 prompt_eval_count=506 prompt_eval_duration=34767000000 eval_count=2 eval_duration=170000000 message=Message(role='assistant', content='high', images=None, tool_calls=None)\n",
      "model='llama3.2' created_at='2025-03-22T20:47:30.17247Z' done=True done_reason='stop' total_duration=43238592171 load_duration=26042526 prompt_eval_count=603 prompt_eval_duration=43043000000 eval_count=2 eval_duration=168000000 message=Message(role='assistant', content='high', images=None, tool_calls=None)\n",
      "model='llama3.2' created_at='2025-03-22T20:48:16.002043Z' done=True done_reason='stop' total_duration=45827212166 load_duration=21726977 prompt_eval_count=634 prompt_eval_duration=45638000000 eval_count=2 eval_duration=166000000 message=Message(role='assistant', content='high', images=None, tool_calls=None)\n",
      "model='llama3.2' created_at='2025-03-22T20:48:51.273098Z' done=True done_reason='stop' total_duration=35268875427 load_duration=21738690 prompt_eval_count=509 prompt_eval_duration=35080000000 eval_count=2 eval_duration=166000000 message=Message(role='assistant', content='high', images=None, tool_calls=None)\n"
     ]
    }
   ],
   "source": [
    "print(df_top_2_rows.risk_level_abr[0])\n",
    "print(df_top_2_rows.risk_level_abr[1])\n",
    "print(df_top_2_rows.risk_level_abr[2])\n",
    "print(df_top_2_rows.risk_level_abr[3])\n",
    "print(df_top_2_rows.risk_level_abr[4])\n",
    "print(df_top_2_rows.risk_level_abr[5])\n",
    "print(df_top_2_rows.risk_level_abr[6])\n",
    "print(df_top_2_rows.risk_level_abr[7])\n",
    "print(df_top_2_rows.risk_level_abr[8])\n",
    "print(df_top_2_rows.risk_level_abr[9])"
   ]
  },
  {
   "cell_type": "code",
   "execution_count": null,
   "id": "90217c7c",
   "metadata": {},
   "outputs": [],
   "source": []
  },
  {
   "cell_type": "code",
   "execution_count": 8,
   "id": "678a3912",
   "metadata": {},
   "outputs": [],
   "source": [
    "additional_text_4 = \"\"\"Based off of the following below patient note, please provide a single risk rating \n",
    "(very_high, high, medium, low, very_low) of a medical complication occurring in the next year. Please return no \n",
    "additional text beyond these 5 ordinal rankings'\"\"\""
   ]
  },
  {
   "cell_type": "code",
   "execution_count": 15,
   "id": "a1c15dcb",
   "metadata": {},
   "outputs": [
    {
     "ename": "NameError",
     "evalue": "name 'additional' is not defined",
     "output_type": "error",
     "traceback": [
      "\u001b[0;31m---------------------------------------------------------------------------\u001b[0m",
      "\u001b[0;31mNameError\u001b[0m                                 Traceback (most recent call last)",
      "\u001b[0;32m/var/folders/6y/7f8ql7d92zs0sclx2vbczpk80000gn/T/ipykernel_19961/1911790792.py\u001b[0m in \u001b[0;36m<module>\u001b[0;34m\u001b[0m\n\u001b[0;32m----> 1\u001b[0;31m \u001b[0mdf_top_2_rows\u001b[0m\u001b[0;34m.\u001b[0m\u001b[0mloc\u001b[0m\u001b[0;34m[\u001b[0m\u001b[0;34m:\u001b[0m\u001b[0;34m,\u001b[0m \u001b[0;34m'top_concerns'\u001b[0m\u001b[0;34m]\u001b[0m \u001b[0;34m=\u001b[0m \u001b[0mdf_top_2_rows\u001b[0m\u001b[0;34m[\u001b[0m\u001b[0;34m'full_note'\u001b[0m\u001b[0;34m]\u001b[0m\u001b[0;34m.\u001b[0m\u001b[0mapply\u001b[0m\u001b[0;34m(\u001b[0m\u001b[0;32mlambda\u001b[0m \u001b[0mx\u001b[0m\u001b[0;34m:\u001b[0m \u001b[0mget_chat_response\u001b[0m\u001b[0;34m(\u001b[0m\u001b[0madditional\u001b[0m \u001b[0;34m+\u001b[0m \u001b[0mx\u001b[0m\u001b[0;34m)\u001b[0m\u001b[0;34m)\u001b[0m\u001b[0;34m\u001b[0m\u001b[0;34m\u001b[0m\u001b[0m\n\u001b[0m",
      "\u001b[0;32m~/opt/anaconda3/lib/python3.9/site-packages/pandas/core/series.py\u001b[0m in \u001b[0;36mapply\u001b[0;34m(self, func, convert_dtype, args, **kwargs)\u001b[0m\n\u001b[1;32m   4355\u001b[0m         \u001b[0mdtype\u001b[0m\u001b[0;34m:\u001b[0m \u001b[0mfloat64\u001b[0m\u001b[0;34m\u001b[0m\u001b[0;34m\u001b[0m\u001b[0m\n\u001b[1;32m   4356\u001b[0m         \"\"\"\n\u001b[0;32m-> 4357\u001b[0;31m         \u001b[0;32mreturn\u001b[0m \u001b[0mSeriesApply\u001b[0m\u001b[0;34m(\u001b[0m\u001b[0mself\u001b[0m\u001b[0;34m,\u001b[0m \u001b[0mfunc\u001b[0m\u001b[0;34m,\u001b[0m \u001b[0mconvert_dtype\u001b[0m\u001b[0;34m,\u001b[0m \u001b[0margs\u001b[0m\u001b[0;34m,\u001b[0m \u001b[0mkwargs\u001b[0m\u001b[0;34m)\u001b[0m\u001b[0;34m.\u001b[0m\u001b[0mapply\u001b[0m\u001b[0;34m(\u001b[0m\u001b[0;34m)\u001b[0m\u001b[0;34m\u001b[0m\u001b[0;34m\u001b[0m\u001b[0m\n\u001b[0m\u001b[1;32m   4358\u001b[0m \u001b[0;34m\u001b[0m\u001b[0m\n\u001b[1;32m   4359\u001b[0m     def _reduce(\n",
      "\u001b[0;32m~/opt/anaconda3/lib/python3.9/site-packages/pandas/core/apply.py\u001b[0m in \u001b[0;36mapply\u001b[0;34m(self)\u001b[0m\n\u001b[1;32m   1041\u001b[0m             \u001b[0;32mreturn\u001b[0m \u001b[0mself\u001b[0m\u001b[0;34m.\u001b[0m\u001b[0mapply_str\u001b[0m\u001b[0;34m(\u001b[0m\u001b[0;34m)\u001b[0m\u001b[0;34m\u001b[0m\u001b[0;34m\u001b[0m\u001b[0m\n\u001b[1;32m   1042\u001b[0m \u001b[0;34m\u001b[0m\u001b[0m\n\u001b[0;32m-> 1043\u001b[0;31m         \u001b[0;32mreturn\u001b[0m \u001b[0mself\u001b[0m\u001b[0;34m.\u001b[0m\u001b[0mapply_standard\u001b[0m\u001b[0;34m(\u001b[0m\u001b[0;34m)\u001b[0m\u001b[0;34m\u001b[0m\u001b[0;34m\u001b[0m\u001b[0m\n\u001b[0m\u001b[1;32m   1044\u001b[0m \u001b[0;34m\u001b[0m\u001b[0m\n\u001b[1;32m   1045\u001b[0m     \u001b[0;32mdef\u001b[0m \u001b[0magg\u001b[0m\u001b[0;34m(\u001b[0m\u001b[0mself\u001b[0m\u001b[0;34m)\u001b[0m\u001b[0;34m:\u001b[0m\u001b[0;34m\u001b[0m\u001b[0;34m\u001b[0m\u001b[0m\n",
      "\u001b[0;32m~/opt/anaconda3/lib/python3.9/site-packages/pandas/core/apply.py\u001b[0m in \u001b[0;36mapply_standard\u001b[0;34m(self)\u001b[0m\n\u001b[1;32m   1096\u001b[0m                 \u001b[0;31m# List[Union[Callable[..., Any], str]]]]]\"; expected\u001b[0m\u001b[0;34m\u001b[0m\u001b[0;34m\u001b[0m\u001b[0m\n\u001b[1;32m   1097\u001b[0m                 \u001b[0;31m# \"Callable[[Any], Any]\"\u001b[0m\u001b[0;34m\u001b[0m\u001b[0;34m\u001b[0m\u001b[0m\n\u001b[0;32m-> 1098\u001b[0;31m                 mapped = lib.map_infer(\n\u001b[0m\u001b[1;32m   1099\u001b[0m                     \u001b[0mvalues\u001b[0m\u001b[0;34m,\u001b[0m\u001b[0;34m\u001b[0m\u001b[0;34m\u001b[0m\u001b[0m\n\u001b[1;32m   1100\u001b[0m                     \u001b[0mf\u001b[0m\u001b[0;34m,\u001b[0m  \u001b[0;31m# type: ignore[arg-type]\u001b[0m\u001b[0;34m\u001b[0m\u001b[0;34m\u001b[0m\u001b[0m\n",
      "\u001b[0;32m~/opt/anaconda3/lib/python3.9/site-packages/pandas/_libs/lib.pyx\u001b[0m in \u001b[0;36mpandas._libs.lib.map_infer\u001b[0;34m()\u001b[0m\n",
      "\u001b[0;32m/var/folders/6y/7f8ql7d92zs0sclx2vbczpk80000gn/T/ipykernel_19961/1911790792.py\u001b[0m in \u001b[0;36m<lambda>\u001b[0;34m(x)\u001b[0m\n\u001b[0;32m----> 1\u001b[0;31m \u001b[0mdf_top_2_rows\u001b[0m\u001b[0;34m.\u001b[0m\u001b[0mloc\u001b[0m\u001b[0;34m[\u001b[0m\u001b[0;34m:\u001b[0m\u001b[0;34m,\u001b[0m \u001b[0;34m'top_concerns'\u001b[0m\u001b[0;34m]\u001b[0m \u001b[0;34m=\u001b[0m \u001b[0mdf_top_2_rows\u001b[0m\u001b[0;34m[\u001b[0m\u001b[0;34m'full_note'\u001b[0m\u001b[0;34m]\u001b[0m\u001b[0;34m.\u001b[0m\u001b[0mapply\u001b[0m\u001b[0;34m(\u001b[0m\u001b[0;32mlambda\u001b[0m \u001b[0mx\u001b[0m\u001b[0;34m:\u001b[0m \u001b[0mget_chat_response\u001b[0m\u001b[0;34m(\u001b[0m\u001b[0madditional\u001b[0m \u001b[0;34m+\u001b[0m \u001b[0mx\u001b[0m\u001b[0;34m)\u001b[0m\u001b[0;34m)\u001b[0m\u001b[0;34m\u001b[0m\u001b[0;34m\u001b[0m\u001b[0m\n\u001b[0m",
      "\u001b[0;31mNameError\u001b[0m: name 'additional' is not defined"
     ]
    }
   ],
   "source": [
    "df_top_2_rows.loc[:, 'top_concerns'] = df_top_2_rows['full_note'].apply(lambda x: get_chat_response(additional_text_4 + x))"
   ]
  },
  {
   "cell_type": "code",
   "execution_count": 10,
   "id": "e7d942bd",
   "metadata": {},
   "outputs": [],
   "source": [
    "df_top_2_rows.loc[:, 'top_concerns_str'] = df_top_2_rows['top_concerns'].apply(lambda x: str(x['content']) if isinstance(x, dict) and 'content' in x else str(x))"
   ]
  },
  {
   "cell_type": "code",
   "execution_count": 11,
   "id": "8d3e2f3f",
   "metadata": {},
   "outputs": [
    {
     "name": "stdout",
     "output_type": "stream",
     "text": [
      "model='llama3.2' created_at='2025-03-22T21:04:37.341153Z' done=True done_reason='stop' total_duration=132679365419 load_duration=7849318133 prompt_eval_count=1712 prompt_eval_duration=124542000000 eval_count=3 eval_duration=283000000 message=Message(role='assistant', content='very_low', images=None, tool_calls=None)\n",
      "model='llama3.2' created_at='2025-03-22T21:05:24.35378Z' done=True done_reason='stop' total_duration=46996778828 load_duration=67674299 prompt_eval_count=755 prompt_eval_duration=46674000000 eval_count=3 eval_duration=253000000 message=Message(role='assistant', content='very_low', images=None, tool_calls=None)\n"
     ]
    }
   ],
   "source": [
    "print(df_top_2_rows.top_concerns_str[0])\n",
    "print(df_top_2_rows.top_concerns_str[1])"
   ]
  },
  {
   "cell_type": "code",
   "execution_count": null,
   "id": "fe683fe7",
   "metadata": {},
   "outputs": [],
   "source": []
  },
  {
   "cell_type": "code",
   "execution_count": 12,
   "id": "4f2d3365",
   "metadata": {},
   "outputs": [],
   "source": [
    "df_top_5_rows = df.head(5)"
   ]
  },
  {
   "cell_type": "code",
   "execution_count": 16,
   "id": "89b0db72",
   "metadata": {},
   "outputs": [],
   "source": [
    "df_top_5_rows.loc[:, 'top_concerns'] = df_top_5_rows['full_note'].apply(lambda x: get_chat_response(additional_text + x))\n",
    "\n"
   ]
  },
  {
   "cell_type": "code",
   "execution_count": 17,
   "id": "9bf05efd",
   "metadata": {},
   "outputs": [],
   "source": [
    "df_top_5_rows.loc[:, 'top_concerns_str'] = df_top_5_rows['top_concerns'].apply(lambda x: str(x['content']) if isinstance(x, dict) and 'content' in x else str(x))\n",
    "\n"
   ]
  },
  {
   "cell_type": "code",
   "execution_count": 18,
   "id": "7dab27f4",
   "metadata": {},
   "outputs": [],
   "source": [
    "df_top_5_rows.loc[:, 'risk_level_abr'] = df_top_5_rows['top_concerns_str'].apply(lambda x: get_chat_response(additional_text_4 + x))"
   ]
  },
  {
   "cell_type": "code",
   "execution_count": 26,
   "id": "642d6c3e",
   "metadata": {},
   "outputs": [
    {
     "data": {
      "text/plain": [
       "ChatResponse(model='llama3.2', created_at='2025-03-22T21:20:41.716398Z', done=True, done_reason='stop', total_duration=171262887129, load_duration=69595186, prompt_eval_count=1721, prompt_eval_duration=140858000000, eval_count=219, eval_duration=30333000000, message=Message(role='assistant', content=\"As her primary care physician, I am concerned that this 16-year-old girl may develop serious medical complications in the next year due to her history of tardive dystonia caused by olanzapine. Her risk factors for developing a serious complication include: \\n\\nThe medication-induced dystonia could lead to severe neck and back pain, as well as muscle damage or paralysis, which may require hospitalization and surgical intervention. Additionally, the patient's ongoing use of tetrabenazine, which is an anticholinergic medication, may further exacerbate her symptoms and increase her risk for other adverse effects.\\n\\nThe patient's underlying bipolar affective disorder also presents a risk for severe medical complications in the next year, particularly if her mood symptoms worsen or she experiences a psychotic episode. Furthermore, her recent use of lithium carbonate and eltroxin may have masked symptoms of hypothyroidism, which could lead to thyroid crisis if not properly managed.\\n\\nMonitoring the patient closely for any signs of worsening dystonia, mood symptoms, or thyroid dysfunction is essential to prevent serious medical complications in the next year.\", images=None, tool_calls=None))"
      ]
     },
     "execution_count": 26,
     "metadata": {},
     "output_type": "execute_result"
    }
   ],
   "source": [
    "df_top_5_rows.top_concerns[0]"
   ]
  },
  {
   "cell_type": "code",
   "execution_count": 27,
   "id": "a08cf1dc",
   "metadata": {},
   "outputs": [
    {
     "data": {
      "text/plain": [
       "ChatResponse(model='llama3.2', created_at='2025-03-22T21:21:53.21594Z', done=True, done_reason='stop', total_duration=71490478510, load_duration=68571365, prompt_eval_count=763, prompt_eval_duration=48327000000, eval_count=183, eval_duration=23093000000, message=Message(role='assistant', content=\"Based on the patient's medical notes, here are four potential risk factors that could lead to a serious medical complication in the next year:\\n\\nThe patient's recent surgical procedure for resection of the tumor and surrounding tissue poses a risk of complications such as respiratory problems or pulmonary embolism due to dislodgement of blood clots. The patient's activity level is also a concern, as his surgery may have weakened his chest wall and increased his risk of injury during high-impact activities. Additionally, the patient's recent diagnosis of sclerosing xanthofibroma, a rare tumor, means that there is a possibility of future malignant transformation or recurrence, which could lead to serious complications if left untreated. Finally, the patient's past history of thoracic trauma and simple fracture of the 9th rib without any other consequences raises concerns about potential underlying bone disease or other structural issues in his thoracic spine.\", images=None, tool_calls=None))"
      ]
     },
     "execution_count": 27,
     "metadata": {},
     "output_type": "execute_result"
    }
   ],
   "source": [
    "df_top_5_rows.top_concerns[1]"
   ]
  },
  {
   "cell_type": "code",
   "execution_count": 20,
   "id": "4ae6a961",
   "metadata": {},
   "outputs": [
    {
     "data": {
      "text/plain": [
       "ChatResponse(model='llama3.2', created_at='2025-03-22T21:26:30.537756Z', done=True, done_reason='stop', total_duration=25601241949, load_duration=47918652, prompt_eval_count=390, prompt_eval_duration=25298000000, eval_count=3, eval_duration=253000000, message=Message(role='assistant', content='very_high', images=None, tool_calls=None))"
      ]
     },
     "execution_count": 20,
     "metadata": {},
     "output_type": "execute_result"
    }
   ],
   "source": [
    "df_top_5_rows.risk_level_abr[0]"
   ]
  },
  {
   "cell_type": "code",
   "execution_count": 28,
   "id": "edd41857",
   "metadata": {},
   "outputs": [
    {
     "data": {
      "text/plain": [
       "ChatResponse(model='llama3.2', created_at='2025-03-22T21:23:25.606993Z', done=True, done_reason='stop', total_duration=92384067058, load_duration=25732031, prompt_eval_count=969, prompt_eval_duration=63271000000, eval_count=224, eval_duration=29086000000, message=Message(role='assistant', content=\"Based on the medical notes provided, as a primary care physician, I would identify the following top risk factors for serious medical complications in the next year:\\n\\nThe patient's recent diagnosis of Cushing's syndrome due to an adrenocortical adenoma poses significant risks, including increased risk of cardiovascular disease, osteoporosis, and impaired glucose regulation. The patient's history of weight gain, central obesity, muscle mass reduction, and hypertension also increases their risk for developing type 2 diabetes, cardiovascular disease, and other metabolic disorders.\\n\\nFurthermore, the patient's recent laparoscopic partial adrenalectomy may have complications such as adrenal insufficiency, hyperaldosteronism, or infection. Additionally, the patient's history of hip joint replacement surgery and osteonecrosis of the femoral head increases their risk for future joint-related complications, such as loosening, wear, or implant failure.\\n\\nIt is essential to closely monitor this patient's condition, including their hormonal levels, cardiovascular parameters, and joint health, to prevent potential complications and ensure optimal management of their Cushing's syndrome and other comorbidities.\", images=None, tool_calls=None))"
      ]
     },
     "execution_count": 28,
     "metadata": {},
     "output_type": "execute_result"
    }
   ],
   "source": [
    "df_top_5_rows.top_concerns[2]"
   ]
  },
  {
   "cell_type": "code",
   "execution_count": 21,
   "id": "c1bf3717",
   "metadata": {},
   "outputs": [
    {
     "data": {
      "text/plain": [
       "ChatResponse(model='llama3.2', created_at='2025-03-22T21:26:47.878485Z', done=True, done_reason='stop', total_duration=17334972336, load_duration=23443867, prompt_eval_count=349, prompt_eval_duration=17068000000, eval_count=3, eval_duration=242000000, message=Message(role='assistant', content='very_high', images=None, tool_calls=None))"
      ]
     },
     "execution_count": 21,
     "metadata": {},
     "output_type": "execute_result"
    }
   ],
   "source": [
    "df_top_5_rows.risk_level_abr[1]"
   ]
  },
  {
   "cell_type": "code",
   "execution_count": 22,
   "id": "ce501e17",
   "metadata": {},
   "outputs": [
    {
     "data": {
      "text/plain": [
       "ChatResponse(model='llama3.2', created_at='2025-03-22T21:27:08.452422Z', done=True, done_reason='stop', total_duration=20567536158, load_duration=21901176, prompt_eval_count=394, prompt_eval_duration=20302000000, eval_count=3, eval_duration=242000000, message=Message(role='assistant', content='very_high', images=None, tool_calls=None))"
      ]
     },
     "execution_count": 22,
     "metadata": {},
     "output_type": "execute_result"
    }
   ],
   "source": [
    "df_top_5_rows.risk_level_abr[2]"
   ]
  },
  {
   "cell_type": "code",
   "execution_count": 23,
   "id": "ce89164b",
   "metadata": {},
   "outputs": [
    {
     "data": {
      "text/plain": [
       "ChatResponse(model='llama3.2', created_at='2025-03-22T21:27:24.925681Z', done=True, done_reason='stop', total_duration=16471431258, load_duration=25629918, prompt_eval_count=334, prompt_eval_duration=16199000000, eval_count=3, eval_duration=245000000, message=Message(role='assistant', content='very_high', images=None, tool_calls=None))"
      ]
     },
     "execution_count": 23,
     "metadata": {},
     "output_type": "execute_result"
    }
   ],
   "source": [
    "df_top_5_rows.risk_level_abr[3]"
   ]
  },
  {
   "cell_type": "code",
   "execution_count": 24,
   "id": "c301d2f2",
   "metadata": {},
   "outputs": [
    {
     "data": {
      "text/plain": [
       "ChatResponse(model='llama3.2', created_at='2025-03-22T21:27:42.592582Z', done=True, done_reason='stop', total_duration=17662621260, load_duration=22805144, prompt_eval_count=354, prompt_eval_duration=17512000000, eval_count=2, eval_duration=125000000, message=Message(role='assistant', content='high', images=None, tool_calls=None))"
      ]
     },
     "execution_count": 24,
     "metadata": {},
     "output_type": "execute_result"
    }
   ],
   "source": [
    "df_top_5_rows.risk_level_abr[4]"
   ]
  },
  {
   "cell_type": "code",
   "execution_count": null,
   "id": "8ac5f7c5",
   "metadata": {},
   "outputs": [],
   "source": []
  }
 ],
 "metadata": {
  "kernelspec": {
   "display_name": "Python 3 (ipykernel)",
   "language": "python",
   "name": "python3"
  },
  "language_info": {
   "codemirror_mode": {
    "name": "ipython",
    "version": 3
   },
   "file_extension": ".py",
   "mimetype": "text/x-python",
   "name": "python",
   "nbconvert_exporter": "python",
   "pygments_lexer": "ipython3",
   "version": "3.9.7"
  }
 },
 "nbformat": 4,
 "nbformat_minor": 5
}
