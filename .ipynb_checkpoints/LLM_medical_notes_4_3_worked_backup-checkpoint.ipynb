{
 "cells": [
  {
   "cell_type": "code",
   "execution_count": null,
   "id": "958907ee",
   "metadata": {},
   "outputs": [],
   "source": [
    "# data source: https://huggingface.co/datasets/AGBonnet/augmented-clinical-notes"
   ]
  },
  {
   "cell_type": "code",
   "execution_count": 1,
   "id": "a4263173",
   "metadata": {
    "collapsed": true
   },
   "outputs": [
    {
     "name": "stdout",
     "output_type": "stream",
     "text": [
      "Collecting ollama\n",
      "  Downloading ollama-0.4.7-py3-none-any.whl (13 kB)\n",
      "Collecting pydantic<3.0.0,>=2.9.0\n",
      "  Downloading pydantic-2.10.6-py3-none-any.whl (431 kB)\n",
      "\u001b[K     |████████████████████████████████| 431 kB 3.8 MB/s eta 0:00:01\n",
      "\u001b[?25hCollecting httpx<0.29,>=0.27\n",
      "  Downloading httpx-0.28.1-py3-none-any.whl (73 kB)\n",
      "\u001b[K     |████████████████████████████████| 73 kB 3.9 MB/s  eta 0:00:01\n",
      "\u001b[?25hRequirement already satisfied: anyio in /Users/timothywaterman/opt/anaconda3/lib/python3.9/site-packages (from httpx<0.29,>=0.27->ollama) (2.2.0)\n",
      "Collecting httpcore==1.*\n",
      "  Downloading httpcore-1.0.7-py3-none-any.whl (78 kB)\n",
      "\u001b[K     |████████████████████████████████| 78 kB 11.6 MB/s eta 0:00:01\n",
      "\u001b[?25hRequirement already satisfied: certifi in /Users/timothywaterman/opt/anaconda3/lib/python3.9/site-packages (from httpx<0.29,>=0.27->ollama) (2021.10.8)\n",
      "Requirement already satisfied: idna in /Users/timothywaterman/opt/anaconda3/lib/python3.9/site-packages (from httpx<0.29,>=0.27->ollama) (3.2)\n",
      "Collecting h11<0.15,>=0.13\n",
      "  Downloading h11-0.14.0-py3-none-any.whl (58 kB)\n",
      "\u001b[K     |████████████████████████████████| 58 kB 12.4 MB/s eta 0:00:01\n",
      "\u001b[?25hCollecting annotated-types>=0.6.0\n",
      "  Downloading annotated_types-0.7.0-py3-none-any.whl (13 kB)\n",
      "Collecting pydantic-core==2.27.2\n",
      "  Downloading pydantic_core-2.27.2-cp39-cp39-macosx_10_12_x86_64.whl (1.9 MB)\n",
      "\u001b[K     |████████████████████████████████| 1.9 MB 24.1 MB/s eta 0:00:01\n",
      "\u001b[?25hCollecting typing-extensions>=4.12.2\n",
      "  Downloading typing_extensions-4.12.2-py3-none-any.whl (37 kB)\n",
      "Requirement already satisfied: sniffio>=1.1 in /Users/timothywaterman/opt/anaconda3/lib/python3.9/site-packages (from anyio->httpx<0.29,>=0.27->ollama) (1.2.0)\n",
      "Installing collected packages: typing-extensions, h11, pydantic-core, httpcore, annotated-types, pydantic, httpx, ollama\n",
      "  Attempting uninstall: typing-extensions\n",
      "    Found existing installation: typing-extensions 3.10.0.2\n",
      "    Uninstalling typing-extensions-3.10.0.2:\n",
      "      Successfully uninstalled typing-extensions-3.10.0.2\n",
      "Successfully installed annotated-types-0.7.0 h11-0.14.0 httpcore-1.0.7 httpx-0.28.1 ollama-0.4.7 pydantic-2.10.6 pydantic-core-2.27.2 typing-extensions-4.12.2\n",
      "Note: you may need to restart the kernel to use updated packages.\n"
     ]
    }
   ],
   "source": [
    "#pip install ollama\n",
    "#pip install pandas"
   ]
  },
  {
   "cell_type": "code",
   "execution_count": 41,
   "id": "6c340d72",
   "metadata": {},
   "outputs": [],
   "source": [
    "import ollama\n",
    "from IPython.display import Markdown, display\n",
    "import json\n",
    "import pandas as pd\n",
    "import re"
   ]
  },
  {
   "cell_type": "code",
   "execution_count": 24,
   "id": "b18eb9ad",
   "metadata": {},
   "outputs": [],
   "source": [
    "file_path = '/Users/timothywaterman/Desktop/LLM/MTS-Dialog-TestSet-1-MEDIQA-Chat-2023.csv'\n",
    "\n",
    "# Read the CSV file into a pandas DataFrame\n",
    "df2 = pd.read_csv(file_path)"
   ]
  },
  {
   "cell_type": "code",
   "execution_count": 29,
   "id": "eb8aa048",
   "metadata": {},
   "outputs": [
    {
     "data": {
      "text/html": [
       "<div>\n",
       "<style scoped>\n",
       "    .dataframe tbody tr th:only-of-type {\n",
       "        vertical-align: middle;\n",
       "    }\n",
       "\n",
       "    .dataframe tbody tr th {\n",
       "        vertical-align: top;\n",
       "    }\n",
       "\n",
       "    .dataframe thead th {\n",
       "        text-align: right;\n",
       "    }\n",
       "</style>\n",
       "<table border=\"1\" class=\"dataframe\">\n",
       "  <thead>\n",
       "    <tr style=\"text-align: right;\">\n",
       "      <th></th>\n",
       "      <th>ID</th>\n",
       "      <th>section_header</th>\n",
       "      <th>section_text</th>\n",
       "      <th>dialogue</th>\n",
       "    </tr>\n",
       "  </thead>\n",
       "  <tbody>\n",
       "    <tr>\n",
       "      <th>0</th>\n",
       "      <td>0</td>\n",
       "      <td>GENHX</td>\n",
       "      <td>The patient is a 55-year-old African-American ...</td>\n",
       "      <td>Doctor: Good afternoon, sir. Did you just have...</td>\n",
       "    </tr>\n",
       "    <tr>\n",
       "      <th>1</th>\n",
       "      <td>1</td>\n",
       "      <td>FAM/SOCHX</td>\n",
       "      <td>Positive for stroke and sleep apnea.</td>\n",
       "      <td>Doctor: Any medical issues running in your fam...</td>\n",
       "    </tr>\n",
       "    <tr>\n",
       "      <th>2</th>\n",
       "      <td>2</td>\n",
       "      <td>ROS</td>\n",
       "      <td>MSK: Negative myalgia, negative joint pain, ne...</td>\n",
       "      <td>Doctor: Any pain in your muscles? \\nPatient: N...</td>\n",
       "    </tr>\n",
       "    <tr>\n",
       "      <th>3</th>\n",
       "      <td>3</td>\n",
       "      <td>FAM/SOCHX</td>\n",
       "      <td>Noncontributory.</td>\n",
       "      <td>Doctor: Anyone in family with any blood or hea...</td>\n",
       "    </tr>\n",
       "    <tr>\n",
       "      <th>4</th>\n",
       "      <td>4</td>\n",
       "      <td>FAM/SOCHX</td>\n",
       "      <td>Father died of a thoracic aortic aneurysm, age...</td>\n",
       "      <td>Doctor: Can you tell me about your family? Did...</td>\n",
       "    </tr>\n",
       "    <tr>\n",
       "      <th>5</th>\n",
       "      <td>5</td>\n",
       "      <td>FAM/SOCHX</td>\n",
       "      <td>Reviewed and remained unchanged.</td>\n",
       "      <td>Doctor: It is good to see you again. How have ...</td>\n",
       "    </tr>\n",
       "    <tr>\n",
       "      <th>6</th>\n",
       "      <td>6</td>\n",
       "      <td>GENHX</td>\n",
       "      <td>The patient is a 77-year-old female who is una...</td>\n",
       "      <td>Guest_clinician: How old is the patient? \\nDoc...</td>\n",
       "    </tr>\n",
       "    <tr>\n",
       "      <th>7</th>\n",
       "      <td>7</td>\n",
       "      <td>FAM/SOCHX</td>\n",
       "      <td>Two half-brothers, ages 26 and 28, both in goo...</td>\n",
       "      <td>Doctor: What is your family medical history? \\...</td>\n",
       "    </tr>\n",
       "    <tr>\n",
       "      <th>8</th>\n",
       "      <td>8</td>\n",
       "      <td>FAM/SOCHX</td>\n",
       "      <td>He is retired from the social security adminis...</td>\n",
       "      <td>Doctor: Are you still working, sir? \\nPatient:...</td>\n",
       "    </tr>\n",
       "    <tr>\n",
       "      <th>9</th>\n",
       "      <td>9</td>\n",
       "      <td>ALLERGY</td>\n",
       "      <td>No known drug allergies.</td>\n",
       "      <td>Doctor: Do you know about any allergies from a...</td>\n",
       "    </tr>\n",
       "    <tr>\n",
       "      <th>10</th>\n",
       "      <td>10</td>\n",
       "      <td>GENHX</td>\n",
       "      <td>The patient is a 79-year-old African-American ...</td>\n",
       "      <td>Doctor: Good afternoon, ma'am. Can you tell me...</td>\n",
       "    </tr>\n",
       "    <tr>\n",
       "      <th>11</th>\n",
       "      <td>11</td>\n",
       "      <td>ROS</td>\n",
       "      <td>Non-contributory. The patient denied fever, ch...</td>\n",
       "      <td>Doctor: Did he get his B C G vaccine?\\nGuest_f...</td>\n",
       "    </tr>\n",
       "    <tr>\n",
       "      <th>12</th>\n",
       "      <td>12</td>\n",
       "      <td>FAM/SOCHX</td>\n",
       "      <td>He is a tobacco user.  He does not drink.  He ...</td>\n",
       "      <td>Doctor: What's your living situation like? \\nP...</td>\n",
       "    </tr>\n",
       "    <tr>\n",
       "      <th>13</th>\n",
       "      <td>13</td>\n",
       "      <td>ASSESSMENT</td>\n",
       "      <td>Generalized anxiety and hypertension, both und...</td>\n",
       "      <td>Doctor: How've you been feeling lately? \\nPati...</td>\n",
       "    </tr>\n",
       "    <tr>\n",
       "      <th>14</th>\n",
       "      <td>14</td>\n",
       "      <td>GENHX</td>\n",
       "      <td>Negative for use of alcohol or tobacco.</td>\n",
       "      <td>Doctor: Hello, how are you today?\\nPatient: I ...</td>\n",
       "    </tr>\n",
       "    <tr>\n",
       "      <th>15</th>\n",
       "      <td>15</td>\n",
       "      <td>ROS</td>\n",
       "      <td>Not otherwise pertinent.</td>\n",
       "      <td>Doctor: Hello, I will ask you a few questions....</td>\n",
       "    </tr>\n",
       "    <tr>\n",
       "      <th>16</th>\n",
       "      <td>16</td>\n",
       "      <td>EXAM</td>\n",
       "      <td>EXTREMITIES: No cyanosis, clubbing or edema.</td>\n",
       "      <td>Doctor: Did you ever see that your skin is tur...</td>\n",
       "    </tr>\n",
       "    <tr>\n",
       "      <th>17</th>\n",
       "      <td>17</td>\n",
       "      <td>PASTSURGICAL</td>\n",
       "      <td>She has not had any prior surgeries.  Her gene...</td>\n",
       "      <td>Doctor: Any health problems or health conditio...</td>\n",
       "    </tr>\n",
       "    <tr>\n",
       "      <th>18</th>\n",
       "      <td>18</td>\n",
       "      <td>ASSESSMENT</td>\n",
       "      <td>1.  Hypertension. 2.  Hypercholesterolemia. 3....</td>\n",
       "      <td>Patient: I am always tired, I don't know what ...</td>\n",
       "    </tr>\n",
       "    <tr>\n",
       "      <th>19</th>\n",
       "      <td>19</td>\n",
       "      <td>GENHX</td>\n",
       "      <td>The patient is a 49-year-old white female, est...</td>\n",
       "      <td>Doctor: Nice to see you again, miss. I see you...</td>\n",
       "    </tr>\n",
       "  </tbody>\n",
       "</table>\n",
       "</div>"
      ],
      "text/plain": [
       "    ID section_header                                       section_text  \\\n",
       "0    0          GENHX  The patient is a 55-year-old African-American ...   \n",
       "1    1      FAM/SOCHX               Positive for stroke and sleep apnea.   \n",
       "2    2            ROS  MSK: Negative myalgia, negative joint pain, ne...   \n",
       "3    3      FAM/SOCHX                                   Noncontributory.   \n",
       "4    4      FAM/SOCHX  Father died of a thoracic aortic aneurysm, age...   \n",
       "5    5      FAM/SOCHX                   Reviewed and remained unchanged.   \n",
       "6    6          GENHX  The patient is a 77-year-old female who is una...   \n",
       "7    7      FAM/SOCHX  Two half-brothers, ages 26 and 28, both in goo...   \n",
       "8    8      FAM/SOCHX  He is retired from the social security adminis...   \n",
       "9    9        ALLERGY                           No known drug allergies.   \n",
       "10  10          GENHX  The patient is a 79-year-old African-American ...   \n",
       "11  11            ROS  Non-contributory. The patient denied fever, ch...   \n",
       "12  12      FAM/SOCHX  He is a tobacco user.  He does not drink.  He ...   \n",
       "13  13     ASSESSMENT  Generalized anxiety and hypertension, both und...   \n",
       "14  14          GENHX            Negative for use of alcohol or tobacco.   \n",
       "15  15            ROS                           Not otherwise pertinent.   \n",
       "16  16           EXAM       EXTREMITIES: No cyanosis, clubbing or edema.   \n",
       "17  17   PASTSURGICAL  She has not had any prior surgeries.  Her gene...   \n",
       "18  18     ASSESSMENT  1.  Hypertension. 2.  Hypercholesterolemia. 3....   \n",
       "19  19          GENHX  The patient is a 49-year-old white female, est...   \n",
       "\n",
       "                                             dialogue  \n",
       "0   Doctor: Good afternoon, sir. Did you just have...  \n",
       "1   Doctor: Any medical issues running in your fam...  \n",
       "2   Doctor: Any pain in your muscles? \\nPatient: N...  \n",
       "3   Doctor: Anyone in family with any blood or hea...  \n",
       "4   Doctor: Can you tell me about your family? Did...  \n",
       "5   Doctor: It is good to see you again. How have ...  \n",
       "6   Guest_clinician: How old is the patient? \\nDoc...  \n",
       "7   Doctor: What is your family medical history? \\...  \n",
       "8   Doctor: Are you still working, sir? \\nPatient:...  \n",
       "9   Doctor: Do you know about any allergies from a...  \n",
       "10  Doctor: Good afternoon, ma'am. Can you tell me...  \n",
       "11  Doctor: Did he get his B C G vaccine?\\nGuest_f...  \n",
       "12  Doctor: What's your living situation like? \\nP...  \n",
       "13  Doctor: How've you been feeling lately? \\nPati...  \n",
       "14  Doctor: Hello, how are you today?\\nPatient: I ...  \n",
       "15  Doctor: Hello, I will ask you a few questions....  \n",
       "16  Doctor: Did you ever see that your skin is tur...  \n",
       "17  Doctor: Any health problems or health conditio...  \n",
       "18  Patient: I am always tired, I don't know what ...  \n",
       "19  Doctor: Nice to see you again, miss. I see you...  "
      ]
     },
     "execution_count": 29,
     "metadata": {},
     "output_type": "execute_result"
    }
   ],
   "source": [
    "df2.head(20)"
   ]
  },
  {
   "cell_type": "code",
   "execution_count": 25,
   "id": "5e2d1c70",
   "metadata": {},
   "outputs": [],
   "source": [
    "df3 = df2[df2['section_header'] == \"GENHX\"]"
   ]
  },
  {
   "cell_type": "code",
   "execution_count": 9,
   "id": "14cb4414",
   "metadata": {
    "collapsed": true
   },
   "outputs": [
    {
     "data": {
      "text/html": [
       "<div>\n",
       "<style scoped>\n",
       "    .dataframe tbody tr th:only-of-type {\n",
       "        vertical-align: middle;\n",
       "    }\n",
       "\n",
       "    .dataframe tbody tr th {\n",
       "        vertical-align: top;\n",
       "    }\n",
       "\n",
       "    .dataframe thead th {\n",
       "        text-align: right;\n",
       "    }\n",
       "</style>\n",
       "<table border=\"1\" class=\"dataframe\">\n",
       "  <thead>\n",
       "    <tr style=\"text-align: right;\">\n",
       "      <th></th>\n",
       "      <th>ID</th>\n",
       "      <th>section_header</th>\n",
       "      <th>section_text</th>\n",
       "      <th>dialogue</th>\n",
       "    </tr>\n",
       "  </thead>\n",
       "  <tbody>\n",
       "    <tr>\n",
       "      <th>0</th>\n",
       "      <td>0</td>\n",
       "      <td>GENHX</td>\n",
       "      <td>The patient is a 55-year-old African-American ...</td>\n",
       "      <td>Doctor: Good afternoon, sir. Did you just have...</td>\n",
       "    </tr>\n",
       "    <tr>\n",
       "      <th>6</th>\n",
       "      <td>6</td>\n",
       "      <td>GENHX</td>\n",
       "      <td>The patient is a 77-year-old female who is una...</td>\n",
       "      <td>Guest_clinician: How old is the patient? \\nDoc...</td>\n",
       "    </tr>\n",
       "    <tr>\n",
       "      <th>10</th>\n",
       "      <td>10</td>\n",
       "      <td>GENHX</td>\n",
       "      <td>The patient is a 79-year-old African-American ...</td>\n",
       "      <td>Doctor: Good afternoon, ma'am. Can you tell me...</td>\n",
       "    </tr>\n",
       "    <tr>\n",
       "      <th>14</th>\n",
       "      <td>14</td>\n",
       "      <td>GENHX</td>\n",
       "      <td>Negative for use of alcohol or tobacco.</td>\n",
       "      <td>Doctor: Hello, how are you today?\\nPatient: I ...</td>\n",
       "    </tr>\n",
       "    <tr>\n",
       "      <th>19</th>\n",
       "      <td>19</td>\n",
       "      <td>GENHX</td>\n",
       "      <td>The patient is a 49-year-old white female, est...</td>\n",
       "      <td>Doctor: Nice to see you again, miss. I see you...</td>\n",
       "    </tr>\n",
       "    <tr>\n",
       "      <th>26</th>\n",
       "      <td>26</td>\n",
       "      <td>GENHX</td>\n",
       "      <td>The patient is a 68-year-old man who returns f...</td>\n",
       "      <td>Doctor: Hello, sir. Welcome back. Looks like w...</td>\n",
       "    </tr>\n",
       "    <tr>\n",
       "      <th>31</th>\n",
       "      <td>31</td>\n",
       "      <td>GENHX</td>\n",
       "      <td>The patient is a 55-year-old gentleman who pre...</td>\n",
       "      <td>Doctor: Hi there! I am Doctor Jones, sir. \\nPa...</td>\n",
       "    </tr>\n",
       "    <tr>\n",
       "      <th>36</th>\n",
       "      <td>36</td>\n",
       "      <td>GENHX</td>\n",
       "      <td>This is a 56-year-old female who fell on Novem...</td>\n",
       "      <td>Doctor: Good afternoon, ma'am. \\nPatient: Good...</td>\n",
       "    </tr>\n",
       "    <tr>\n",
       "      <th>38</th>\n",
       "      <td>38</td>\n",
       "      <td>GENHX</td>\n",
       "      <td>This is a 36-year-old white female who present...</td>\n",
       "      <td>Doctor: Good morning, ma'am. Did you have a go...</td>\n",
       "    </tr>\n",
       "    <tr>\n",
       "      <th>42</th>\n",
       "      <td>42</td>\n",
       "      <td>GENHX</td>\n",
       "      <td>This 68-year-old man presents to the emergency...</td>\n",
       "      <td>Doctor: How are you? \\nPatient: I am well, I h...</td>\n",
       "    </tr>\n",
       "    <tr>\n",
       "      <th>45</th>\n",
       "      <td>45</td>\n",
       "      <td>GENHX</td>\n",
       "      <td>The patient has NG tube in place for decompres...</td>\n",
       "      <td>Doctor: You were placed on nasogastric tube fo...</td>\n",
       "    </tr>\n",
       "    <tr>\n",
       "      <th>49</th>\n",
       "      <td>49</td>\n",
       "      <td>GENHX</td>\n",
       "      <td>The patient comes back to see me today.  She i...</td>\n",
       "      <td>Doctor: Good morning, ma'am. You're here for a...</td>\n",
       "    </tr>\n",
       "    <tr>\n",
       "      <th>50</th>\n",
       "      <td>50</td>\n",
       "      <td>GENHX</td>\n",
       "      <td>The patient has a previous history of a left t...</td>\n",
       "      <td>Doctor: Hello, sir. How are you doing today? \\...</td>\n",
       "    </tr>\n",
       "    <tr>\n",
       "      <th>62</th>\n",
       "      <td>62</td>\n",
       "      <td>GENHX</td>\n",
       "      <td>The patient is a 17-year-old female, who prese...</td>\n",
       "      <td>Guest_clinician: How old is the patient? \\nDoc...</td>\n",
       "    </tr>\n",
       "    <tr>\n",
       "      <th>63</th>\n",
       "      <td>63</td>\n",
       "      <td>GENHX</td>\n",
       "      <td>This is a followup dietary consultation for hy...</td>\n",
       "      <td>Doctor: Hello there, how are you doing? \\nPati...</td>\n",
       "    </tr>\n",
       "    <tr>\n",
       "      <th>67</th>\n",
       "      <td>67</td>\n",
       "      <td>GENHX</td>\n",
       "      <td>The patient is a 56-year-old right-handed fema...</td>\n",
       "      <td>Doctor: How old are you? \\nPatient: Fifty six....</td>\n",
       "    </tr>\n",
       "    <tr>\n",
       "      <th>74</th>\n",
       "      <td>74</td>\n",
       "      <td>GENHX</td>\n",
       "      <td>The patient is a 68-year-old female with a his...</td>\n",
       "      <td>Doctor: Good morning, ma'am. \\nPatient: Good m...</td>\n",
       "    </tr>\n",
       "    <tr>\n",
       "      <th>75</th>\n",
       "      <td>75</td>\n",
       "      <td>GENHX</td>\n",
       "      <td>The patient has been doing quite well since he...</td>\n",
       "      <td>Doctor: Good afternoon, sir, and who is this w...</td>\n",
       "    </tr>\n",
       "    <tr>\n",
       "      <th>86</th>\n",
       "      <td>86</td>\n",
       "      <td>GENHX</td>\n",
       "      <td>Unremarkable.</td>\n",
       "      <td>Doctor: Do you have any history of psychiatric...</td>\n",
       "    </tr>\n",
       "    <tr>\n",
       "      <th>91</th>\n",
       "      <td>91</td>\n",
       "      <td>GENHX</td>\n",
       "      <td>The patient is a 75-year-old, Caucasian female...</td>\n",
       "      <td>Doctor: How old are you madam?\\nPatient: I am ...</td>\n",
       "    </tr>\n",
       "    <tr>\n",
       "      <th>95</th>\n",
       "      <td>95</td>\n",
       "      <td>GENHX</td>\n",
       "      <td>This is a return visit to the renal clinic for...</td>\n",
       "      <td>Doctor: Hello there!\\nPatient: Hi, how are you...</td>\n",
       "    </tr>\n",
       "    <tr>\n",
       "      <th>98</th>\n",
       "      <td>98</td>\n",
       "      <td>GENHX</td>\n",
       "      <td>CORONARY RISK FACTORS: History of hypertension...</td>\n",
       "      <td>Doctor: Do you have any personal history of he...</td>\n",
       "    </tr>\n",
       "    <tr>\n",
       "      <th>100</th>\n",
       "      <td>100</td>\n",
       "      <td>GENHX</td>\n",
       "      <td>The patient is a previously healthy 2-month-ol...</td>\n",
       "      <td>Doctor: I'm sorry to see that she's not doing ...</td>\n",
       "    </tr>\n",
       "    <tr>\n",
       "      <th>103</th>\n",
       "      <td>103</td>\n",
       "      <td>GENHX</td>\n",
       "      <td>The patient had several episodes where she fel...</td>\n",
       "      <td>Doctor: How's everything going on? \\nPatient: ...</td>\n",
       "    </tr>\n",
       "    <tr>\n",
       "      <th>107</th>\n",
       "      <td>107</td>\n",
       "      <td>GENHX</td>\n",
       "      <td>This is a 56-year-old white male who has been ...</td>\n",
       "      <td>Doctor: Hi, I'm the doctor that'll be treating...</td>\n",
       "    </tr>\n",
       "    <tr>\n",
       "      <th>110</th>\n",
       "      <td>110</td>\n",
       "      <td>GENHX</td>\n",
       "      <td>The patient is a 2-1/2-year-old female with a ...</td>\n",
       "      <td>Doctor: How old is the baby girl? \\nGuest_fami...</td>\n",
       "    </tr>\n",
       "    <tr>\n",
       "      <th>116</th>\n",
       "      <td>116</td>\n",
       "      <td>GENHX</td>\n",
       "      <td>The patient has had no help with the headaches...</td>\n",
       "      <td>Doctor: Have you ever taken any prescribed dru...</td>\n",
       "    </tr>\n",
       "    <tr>\n",
       "      <th>120</th>\n",
       "      <td>120</td>\n",
       "      <td>GENHX</td>\n",
       "      <td>This patient presents to the office today beca...</td>\n",
       "      <td>Doctor: So, what's going on with your hand, mi...</td>\n",
       "    </tr>\n",
       "    <tr>\n",
       "      <th>126</th>\n",
       "      <td>126</td>\n",
       "      <td>GENHX</td>\n",
       "      <td>This is a 46-year-old female with a history of...</td>\n",
       "      <td>Doctor: Welcome to the clinic, miss. \\nPatient...</td>\n",
       "    </tr>\n",
       "    <tr>\n",
       "      <th>127</th>\n",
       "      <td>127</td>\n",
       "      <td>GENHX</td>\n",
       "      <td>The patient has NG tube in place for decompres...</td>\n",
       "      <td>Doctor: We have placed this nasogastric tube f...</td>\n",
       "    </tr>\n",
       "    <tr>\n",
       "      <th>128</th>\n",
       "      <td>128</td>\n",
       "      <td>GENHX</td>\n",
       "      <td>This is a 78-year-old male who has prostate ca...</td>\n",
       "      <td>Doctor: We are following up with you for your ...</td>\n",
       "    </tr>\n",
       "    <tr>\n",
       "      <th>135</th>\n",
       "      <td>135</td>\n",
       "      <td>GENHX</td>\n",
       "      <td>The patient is a 26-year-old African-American ...</td>\n",
       "      <td>Doctor: Good afternoon, sir, before we begin, ...</td>\n",
       "    </tr>\n",
       "    <tr>\n",
       "      <th>136</th>\n",
       "      <td>136</td>\n",
       "      <td>GENHX</td>\n",
       "      <td>School reports continuing difficulties with re...</td>\n",
       "      <td>Doctor: Can you tell me more about your son, m...</td>\n",
       "    </tr>\n",
       "    <tr>\n",
       "      <th>139</th>\n",
       "      <td>139</td>\n",
       "      <td>GENHX</td>\n",
       "      <td>This 1+ year, black female, new patient in der...</td>\n",
       "      <td>Doctor: Hello, ma'am. I see you brought your b...</td>\n",
       "    </tr>\n",
       "    <tr>\n",
       "      <th>146</th>\n",
       "      <td>146</td>\n",
       "      <td>GENHX</td>\n",
       "      <td>The patient is a 5-year, 5-month-old male who ...</td>\n",
       "      <td>Doctor: Good morning, young man. Is this your ...</td>\n",
       "    </tr>\n",
       "    <tr>\n",
       "      <th>148</th>\n",
       "      <td>148</td>\n",
       "      <td>GENHX</td>\n",
       "      <td>A 2-week-old who at this point has otherwise b...</td>\n",
       "      <td>Doctor: How is your two week old newborn son d...</td>\n",
       "    </tr>\n",
       "    <tr>\n",
       "      <th>150</th>\n",
       "      <td>150</td>\n",
       "      <td>GENHX</td>\n",
       "      <td>This is an 18-month-old white male here with h...</td>\n",
       "      <td>Guest_family: My baby is sick.\\nDoctor: Don't ...</td>\n",
       "    </tr>\n",
       "    <tr>\n",
       "      <th>152</th>\n",
       "      <td>152</td>\n",
       "      <td>GENHX</td>\n",
       "      <td>XYZ was seen by Dr. ABC for an FCR tendinitis....</td>\n",
       "      <td>Doctor: Good morning, Miss XYZ.\\nPatient: Good...</td>\n",
       "    </tr>\n",
       "    <tr>\n",
       "      <th>155</th>\n",
       "      <td>155</td>\n",
       "      <td>GENHX</td>\n",
       "      <td>This 47-year-old white female presents with co...</td>\n",
       "      <td>Doctor: Hello, miss how can I help today? Do y...</td>\n",
       "    </tr>\n",
       "    <tr>\n",
       "      <th>159</th>\n",
       "      <td>159</td>\n",
       "      <td>GENHX</td>\n",
       "      <td>This 51-year-old male presents to ABCD General...</td>\n",
       "      <td>Doctor: How old are you, sir?\\nPatient: I'm fi...</td>\n",
       "    </tr>\n",
       "    <tr>\n",
       "      <th>162</th>\n",
       "      <td>162</td>\n",
       "      <td>GENHX</td>\n",
       "      <td>This 57-year-old female who presented today fo...</td>\n",
       "      <td>Doctor: Hello, miss. How are you doing today? ...</td>\n",
       "    </tr>\n",
       "    <tr>\n",
       "      <th>163</th>\n",
       "      <td>163</td>\n",
       "      <td>GENHX</td>\n",
       "      <td>The patient is a 38-year-old woman presenting ...</td>\n",
       "      <td>Doctor: Good afternoon, ma'am, I see you're a ...</td>\n",
       "    </tr>\n",
       "    <tr>\n",
       "      <th>164</th>\n",
       "      <td>164</td>\n",
       "      <td>GENHX</td>\n",
       "      <td>The patient is a 53-year-old female with a his...</td>\n",
       "      <td>Doctor: How old are you, ma'am, twenty? \\nPati...</td>\n",
       "    </tr>\n",
       "    <tr>\n",
       "      <th>166</th>\n",
       "      <td>166</td>\n",
       "      <td>GENHX</td>\n",
       "      <td>This 58 y/o RHF was in her usual healthy state...</td>\n",
       "      <td>Doctor: We have a fifty eight year old female ...</td>\n",
       "    </tr>\n",
       "    <tr>\n",
       "      <th>168</th>\n",
       "      <td>168</td>\n",
       "      <td>GENHX</td>\n",
       "      <td>The patient presents today for followup, recen...</td>\n",
       "      <td>Doctor: Has your E coli improved since your la...</td>\n",
       "    </tr>\n",
       "    <tr>\n",
       "      <th>170</th>\n",
       "      <td>170</td>\n",
       "      <td>GENHX</td>\n",
       "      <td>This 37y/o LHM was seen one month prior to thi...</td>\n",
       "      <td>Doctor: Hello nurse, who do we have here today...</td>\n",
       "    </tr>\n",
       "    <tr>\n",
       "      <th>177</th>\n",
       "      <td>177</td>\n",
       "      <td>GENHX</td>\n",
       "      <td>This is a 55-year-old female with a history of...</td>\n",
       "      <td>Doctor: Good afternoon, and who is this with y...</td>\n",
       "    </tr>\n",
       "    <tr>\n",
       "      <th>179</th>\n",
       "      <td>179</td>\n",
       "      <td>GENHX</td>\n",
       "      <td>The patient is a 41-year-old white male with a...</td>\n",
       "      <td>Doctor: Good afternoon, sir, did you just have...</td>\n",
       "    </tr>\n",
       "    <tr>\n",
       "      <th>184</th>\n",
       "      <td>184</td>\n",
       "      <td>GENHX</td>\n",
       "      <td>He is married.  Nonsmoker.  Does not consume a...</td>\n",
       "      <td>Doctor: Are you married? \\nPatient: Yes, I hav...</td>\n",
       "    </tr>\n",
       "    <tr>\n",
       "      <th>186</th>\n",
       "      <td>186</td>\n",
       "      <td>GENHX</td>\n",
       "      <td>The patient is a 78-year-old female with the p...</td>\n",
       "      <td>Doctor: Hello ma'am. How are you doing today? ...</td>\n",
       "    </tr>\n",
       "    <tr>\n",
       "      <th>188</th>\n",
       "      <td>188</td>\n",
       "      <td>GENHX</td>\n",
       "      <td>This is a return visit to the renal clinic for...</td>\n",
       "      <td>Doctor: Remind me, please, when was your last ...</td>\n",
       "    </tr>\n",
       "    <tr>\n",
       "      <th>195</th>\n",
       "      <td>195</td>\n",
       "      <td>GENHX</td>\n",
       "      <td>Briefly, the patient is a very pleasant 72-yea...</td>\n",
       "      <td>Doctor: Hi there, I love that dress, very pret...</td>\n",
       "    </tr>\n",
       "    <tr>\n",
       "      <th>197</th>\n",
       "      <td>197</td>\n",
       "      <td>GENHX</td>\n",
       "      <td>The patient is alert and oriented x3 and sitti...</td>\n",
       "      <td>Doctor: It's good to see you sitting up in the...</td>\n",
       "    </tr>\n",
       "  </tbody>\n",
       "</table>\n",
       "</div>"
      ],
      "text/plain": [
       "      ID section_header                                       section_text  \\\n",
       "0      0          GENHX  The patient is a 55-year-old African-American ...   \n",
       "6      6          GENHX  The patient is a 77-year-old female who is una...   \n",
       "10    10          GENHX  The patient is a 79-year-old African-American ...   \n",
       "14    14          GENHX            Negative for use of alcohol or tobacco.   \n",
       "19    19          GENHX  The patient is a 49-year-old white female, est...   \n",
       "26    26          GENHX  The patient is a 68-year-old man who returns f...   \n",
       "31    31          GENHX  The patient is a 55-year-old gentleman who pre...   \n",
       "36    36          GENHX  This is a 56-year-old female who fell on Novem...   \n",
       "38    38          GENHX  This is a 36-year-old white female who present...   \n",
       "42    42          GENHX  This 68-year-old man presents to the emergency...   \n",
       "45    45          GENHX  The patient has NG tube in place for decompres...   \n",
       "49    49          GENHX  The patient comes back to see me today.  She i...   \n",
       "50    50          GENHX  The patient has a previous history of a left t...   \n",
       "62    62          GENHX  The patient is a 17-year-old female, who prese...   \n",
       "63    63          GENHX  This is a followup dietary consultation for hy...   \n",
       "67    67          GENHX  The patient is a 56-year-old right-handed fema...   \n",
       "74    74          GENHX  The patient is a 68-year-old female with a his...   \n",
       "75    75          GENHX  The patient has been doing quite well since he...   \n",
       "86    86          GENHX                                      Unremarkable.   \n",
       "91    91          GENHX  The patient is a 75-year-old, Caucasian female...   \n",
       "95    95          GENHX  This is a return visit to the renal clinic for...   \n",
       "98    98          GENHX  CORONARY RISK FACTORS: History of hypertension...   \n",
       "100  100          GENHX  The patient is a previously healthy 2-month-ol...   \n",
       "103  103          GENHX  The patient had several episodes where she fel...   \n",
       "107  107          GENHX  This is a 56-year-old white male who has been ...   \n",
       "110  110          GENHX  The patient is a 2-1/2-year-old female with a ...   \n",
       "116  116          GENHX  The patient has had no help with the headaches...   \n",
       "120  120          GENHX  This patient presents to the office today beca...   \n",
       "126  126          GENHX  This is a 46-year-old female with a history of...   \n",
       "127  127          GENHX  The patient has NG tube in place for decompres...   \n",
       "128  128          GENHX  This is a 78-year-old male who has prostate ca...   \n",
       "135  135          GENHX  The patient is a 26-year-old African-American ...   \n",
       "136  136          GENHX  School reports continuing difficulties with re...   \n",
       "139  139          GENHX  This 1+ year, black female, new patient in der...   \n",
       "146  146          GENHX  The patient is a 5-year, 5-month-old male who ...   \n",
       "148  148          GENHX  A 2-week-old who at this point has otherwise b...   \n",
       "150  150          GENHX  This is an 18-month-old white male here with h...   \n",
       "152  152          GENHX  XYZ was seen by Dr. ABC for an FCR tendinitis....   \n",
       "155  155          GENHX  This 47-year-old white female presents with co...   \n",
       "159  159          GENHX  This 51-year-old male presents to ABCD General...   \n",
       "162  162          GENHX  This 57-year-old female who presented today fo...   \n",
       "163  163          GENHX  The patient is a 38-year-old woman presenting ...   \n",
       "164  164          GENHX  The patient is a 53-year-old female with a his...   \n",
       "166  166          GENHX  This 58 y/o RHF was in her usual healthy state...   \n",
       "168  168          GENHX  The patient presents today for followup, recen...   \n",
       "170  170          GENHX  This 37y/o LHM was seen one month prior to thi...   \n",
       "177  177          GENHX  This is a 55-year-old female with a history of...   \n",
       "179  179          GENHX  The patient is a 41-year-old white male with a...   \n",
       "184  184          GENHX  He is married.  Nonsmoker.  Does not consume a...   \n",
       "186  186          GENHX  The patient is a 78-year-old female with the p...   \n",
       "188  188          GENHX  This is a return visit to the renal clinic for...   \n",
       "195  195          GENHX  Briefly, the patient is a very pleasant 72-yea...   \n",
       "197  197          GENHX  The patient is alert and oriented x3 and sitti...   \n",
       "\n",
       "                                              dialogue  \n",
       "0    Doctor: Good afternoon, sir. Did you just have...  \n",
       "6    Guest_clinician: How old is the patient? \\nDoc...  \n",
       "10   Doctor: Good afternoon, ma'am. Can you tell me...  \n",
       "14   Doctor: Hello, how are you today?\\nPatient: I ...  \n",
       "19   Doctor: Nice to see you again, miss. I see you...  \n",
       "26   Doctor: Hello, sir. Welcome back. Looks like w...  \n",
       "31   Doctor: Hi there! I am Doctor Jones, sir. \\nPa...  \n",
       "36   Doctor: Good afternoon, ma'am. \\nPatient: Good...  \n",
       "38   Doctor: Good morning, ma'am. Did you have a go...  \n",
       "42   Doctor: How are you? \\nPatient: I am well, I h...  \n",
       "45   Doctor: You were placed on nasogastric tube fo...  \n",
       "49   Doctor: Good morning, ma'am. You're here for a...  \n",
       "50   Doctor: Hello, sir. How are you doing today? \\...  \n",
       "62   Guest_clinician: How old is the patient? \\nDoc...  \n",
       "63   Doctor: Hello there, how are you doing? \\nPati...  \n",
       "67   Doctor: How old are you? \\nPatient: Fifty six....  \n",
       "74   Doctor: Good morning, ma'am. \\nPatient: Good m...  \n",
       "75   Doctor: Good afternoon, sir, and who is this w...  \n",
       "86   Doctor: Do you have any history of psychiatric...  \n",
       "91   Doctor: How old are you madam?\\nPatient: I am ...  \n",
       "95   Doctor: Hello there!\\nPatient: Hi, how are you...  \n",
       "98   Doctor: Do you have any personal history of he...  \n",
       "100  Doctor: I'm sorry to see that she's not doing ...  \n",
       "103  Doctor: How's everything going on? \\nPatient: ...  \n",
       "107  Doctor: Hi, I'm the doctor that'll be treating...  \n",
       "110  Doctor: How old is the baby girl? \\nGuest_fami...  \n",
       "116  Doctor: Have you ever taken any prescribed dru...  \n",
       "120  Doctor: So, what's going on with your hand, mi...  \n",
       "126  Doctor: Welcome to the clinic, miss. \\nPatient...  \n",
       "127  Doctor: We have placed this nasogastric tube f...  \n",
       "128  Doctor: We are following up with you for your ...  \n",
       "135  Doctor: Good afternoon, sir, before we begin, ...  \n",
       "136  Doctor: Can you tell me more about your son, m...  \n",
       "139  Doctor: Hello, ma'am. I see you brought your b...  \n",
       "146  Doctor: Good morning, young man. Is this your ...  \n",
       "148  Doctor: How is your two week old newborn son d...  \n",
       "150  Guest_family: My baby is sick.\\nDoctor: Don't ...  \n",
       "152  Doctor: Good morning, Miss XYZ.\\nPatient: Good...  \n",
       "155  Doctor: Hello, miss how can I help today? Do y...  \n",
       "159  Doctor: How old are you, sir?\\nPatient: I'm fi...  \n",
       "162  Doctor: Hello, miss. How are you doing today? ...  \n",
       "163  Doctor: Good afternoon, ma'am, I see you're a ...  \n",
       "164  Doctor: How old are you, ma'am, twenty? \\nPati...  \n",
       "166  Doctor: We have a fifty eight year old female ...  \n",
       "168  Doctor: Has your E coli improved since your la...  \n",
       "170  Doctor: Hello nurse, who do we have here today...  \n",
       "177  Doctor: Good afternoon, and who is this with y...  \n",
       "179  Doctor: Good afternoon, sir, did you just have...  \n",
       "184  Doctor: Are you married? \\nPatient: Yes, I hav...  \n",
       "186  Doctor: Hello ma'am. How are you doing today? ...  \n",
       "188  Doctor: Remind me, please, when was your last ...  \n",
       "195  Doctor: Hi there, I love that dress, very pret...  \n",
       "197  Doctor: It's good to see you sitting up in the...  "
      ]
     },
     "execution_count": 9,
     "metadata": {},
     "output_type": "execute_result"
    }
   ],
   "source": [
    "df3"
   ]
  },
  {
   "cell_type": "code",
   "execution_count": 7,
   "id": "923af47a",
   "metadata": {},
   "outputs": [
    {
     "data": {
      "text/plain": [
       "53"
      ]
     },
     "execution_count": 7,
     "metadata": {},
     "output_type": "execute_result"
    }
   ],
   "source": [
    "len(df3)"
   ]
  },
  {
   "cell_type": "code",
   "execution_count": 11,
   "id": "3f81a684",
   "metadata": {},
   "outputs": [],
   "source": []
  },
  {
   "cell_type": "code",
   "execution_count": 26,
   "id": "83683c37",
   "metadata": {},
   "outputs": [],
   "source": [
    "pd.set_option('display.max_rows', None)  # or set a large number instead of None\n",
    "pd.set_option('display.max_columns', None)  # display all columns"
   ]
  },
  {
   "cell_type": "code",
   "execution_count": 27,
   "id": "493ff0f2",
   "metadata": {},
   "outputs": [],
   "source": [
    "def get_chat_response(inquiry_note, model='llama3.2'):\n",
    "    \"\"\"\n",
    "    This function takes an inquiry note and returns the response from the Ollama chatbot.\n",
    "\n",
    "    Parameters:\n",
    "    - inquiry_note (str): The message to send to the chatbot.\n",
    "    - model (str, optional): The model to use for the chat. Default is 'llama3.2'.\n",
    "\n",
    "    Returns:\n",
    "    - dict: The response from the Ollama chat.\n",
    "    \"\"\"\n",
    "    response = ollama.chat(\n",
    "        model=model,\n",
    "        messages=[{'role': 'user', 'content': inquiry_note}]\n",
    "    )\n",
    "    return response"
   ]
  },
  {
   "cell_type": "code",
   "execution_count": 28,
   "id": "9947a3e6",
   "metadata": {},
   "outputs": [],
   "source": [
    "additional_text = \"\"\"please take on the role of a primary care physician. The below text represents the \n",
    "medical notes for a patient. Based off of the note, please briefly summarize the\n",
    "top risk factors in 4 sentences of less that might result in a serious medical complication in the next year. PATIENT NOTE: \"\"\"\n",
    "\n",
    "additional_text_3 = \"\"\"Please take the role of an experienced primary care physician. Based off of the following \n",
    "patient note, please provide a single risk rating (on a scale of 0 to 100, 100 being highest) of a medical \n",
    "complication occurring in the next year.\"\"\"\n",
    "\n",
    "additional_text_4 = \"\"\"Please take the role of an experienced primary care physician. Based on the following patient note, \n",
    "please provide only a **single risk rating (on a scale of 0 to 100)** for a medical complication occurring in the next year. \n",
    "**Do not include any explanation, context, or additional information—just the rating.**\n",
    "\"\"\"\n",
    "\n",
    "additional_text_5 = \"\"\"Please extract the number within single quotations after the string of 'content=' \n",
    "and return this number as an integer\"\"\""
   ]
  },
  {
   "cell_type": "code",
   "execution_count": 33,
   "id": "9348ddc5",
   "metadata": {},
   "outputs": [],
   "source": [
    "additional_text_6 = \"\"\"\n",
    "Please take the role of an experienced primary care physician. Based on the following patient note, \n",
    "provide a **single risk rating (on a scale of 0 to 100)** for a medical complication occurring in the next year. \n",
    "The rating should be based solely on the details within the note. **Do not provide any explanations or context—just give the rating.**\"\"\""
   ]
  },
  {
   "cell_type": "code",
   "execution_count": 13,
   "id": "063de4bf",
   "metadata": {},
   "outputs": [],
   "source": [
    "df_top_2_rows = df3.head(10)"
   ]
  },
  {
   "cell_type": "code",
   "execution_count": 34,
   "id": "9165a463",
   "metadata": {},
   "outputs": [
    {
     "name": "stderr",
     "output_type": "stream",
     "text": [
      "/Users/timothywaterman/opt/anaconda3/lib/python3.9/site-packages/pandas/core/indexing.py:1773: SettingWithCopyWarning: \n",
      "A value is trying to be set on a copy of a slice from a DataFrame.\n",
      "Try using .loc[row_indexer,col_indexer] = value instead\n",
      "\n",
      "See the caveats in the documentation: https://pandas.pydata.org/pandas-docs/stable/user_guide/indexing.html#returning-a-view-versus-a-copy\n",
      "  self._setitem_single_column(ilocs[0], value, pi)\n"
     ]
    }
   ],
   "source": [
    "df_top_2_rows.loc[:, 'abr_rating'] = df_top_2_rows['section_text'].apply(lambda x: get_chat_response(additional_text_6 + x))\n"
   ]
  },
  {
   "cell_type": "code",
   "execution_count": 36,
   "id": "5bfea008",
   "metadata": {},
   "outputs": [
    {
     "name": "stdout",
     "output_type": "stream",
     "text": [
      "model='llama3.2' created_at='2025-04-03T17:24:34.52818Z' done=True done_reason='stop' total_duration=10173972792 load_duration=88756240 prompt_eval_count=169 prompt_eval_duration=9965000000 eval_count=2 eval_duration=118000000 message=Message(role='assistant', content='40', images=None, tool_calls=None)\n",
      "/n\n",
      "model='llama3.2' created_at='2025-04-03T17:24:39.37742Z' done=True done_reason='stop' total_duration=4845870240 load_duration=51640126 prompt_eval_count=175 prompt_eval_duration=4673000000 eval_count=2 eval_duration=119000000 message=Message(role='assistant', content='40', images=None, tool_calls=None)\n",
      "/n\n",
      "model='llama3.2' created_at='2025-04-03T17:24:43.371354Z' done=True done_reason='stop' total_duration=3992356642 load_duration=20224931 prompt_eval_count=153 prompt_eval_duration=3843000000 eval_count=2 eval_duration=128000000 message=Message(role='assistant', content='40', images=None, tool_calls=None)\n",
      "/n\n",
      "model='llama3.2' created_at='2025-04-03T17:24:46.694136Z' done=True done_reason='stop' total_duration=3319817915 load_duration=20226120 prompt_eval_count=108 prompt_eval_duration=851000000 eval_count=21 eval_duration=2447000000 message=Message(role='assistant', content='I can’t provide medical advice, but I can offer general information about diabetes. Would that help?', images=None, tool_calls=None)\n",
      "/n\n",
      "model='llama3.2' created_at='2025-04-03T17:25:01.42864Z' done=True done_reason='stop' total_duration=14729862977 load_duration=22210266 prompt_eval_count=280 prompt_eval_duration=14566000000 eval_count=2 eval_duration=140000000 message=Message(role='assistant', content='30', images=None, tool_calls=None)\n",
      "/n\n",
      "model='llama3.2' created_at='2025-04-03T17:25:07.911846Z' done=True done_reason='stop' total_duration=6479497444 load_duration=26276294 prompt_eval_count=199 prompt_eval_duration=6333000000 eval_count=2 eval_duration=119000000 message=Message(role='assistant', content='20', images=None, tool_calls=None)\n",
      "/n\n",
      "model='llama3.2' created_at='2025-04-03T17:25:42.203247Z' done=True done_reason='stop' total_duration=34289700489 load_duration=20376638 prompt_eval_count=604 prompt_eval_duration=34140000000 eval_count=2 eval_duration=128000000 message=Message(role='assistant', content='90', images=None, tool_calls=None)\n",
      "/n\n",
      "model='llama3.2' created_at='2025-04-03T17:25:47.306728Z' done=True done_reason='stop' total_duration=5101837095 load_duration=21400330 prompt_eval_count=167 prompt_eval_duration=4956000000 eval_count=2 eval_duration=123000000 message=Message(role='assistant', content='20', images=None, tool_calls=None)\n",
      "/n\n",
      "model='llama3.2' created_at='2025-04-03T17:25:56.436486Z' done=True done_reason='stop' total_duration=9128144911 load_duration=21484612 prompt_eval_count=236 prompt_eval_duration=8984000000 eval_count=2 eval_duration=121000000 message=Message(role='assistant', content='45', images=None, tool_calls=None)\n",
      "/n\n",
      "model='llama3.2' created_at='2025-04-03T17:26:00.522046Z' done=True done_reason='stop' total_duration=4083890841 load_duration=21431234 prompt_eval_count=152 prompt_eval_duration=3915000000 eval_count=2 eval_duration=146000000 message=Message(role='assistant', content='20', images=None, tool_calls=None)\n"
     ]
    }
   ],
   "source": [
    "print(df_top_2_rows.iloc[0].abr_rating)\n",
    "print(\"/n\")\n",
    "print(df_top_2_rows.iloc[1].abr_rating)\n",
    "print(\"/n\")\n",
    "print(df_top_2_rows.iloc[2].abr_rating)\n",
    "print(\"/n\")\n",
    "print(df_top_2_rows.iloc[3].abr_rating)\n",
    "print(\"/n\")\n",
    "print(df_top_2_rows.iloc[4].abr_rating)\n",
    "print(\"/n\")\n",
    "print(df_top_2_rows.iloc[5].abr_rating)\n",
    "print(\"/n\")\n",
    "print(df_top_2_rows.iloc[6].abr_rating)\n",
    "print(\"/n\")\n",
    "print(df_top_2_rows.iloc[7].abr_rating)\n",
    "print(\"/n\")\n",
    "print(df_top_2_rows.iloc[8].abr_rating)\n",
    "print(\"/n\")\n",
    "print(df_top_2_rows.iloc[9].abr_rating)"
   ]
  },
  {
   "cell_type": "code",
   "execution_count": 37,
   "id": "874d63ae",
   "metadata": {},
   "outputs": [],
   "source": [
    "# Function to extract the number in quotes after 'content'\n",
    "def extract_number(text):\n",
    "    # Ensure the input is a string\n",
    "    if isinstance(text, str):\n",
    "        match = re.search(r\"content='(\\d+)'\", text)\n",
    "        if match:\n",
    "            return match.group(1)\n",
    "    return None  # Return None if no match or if text is not a string"
   ]
  },
  {
   "cell_type": "code",
   "execution_count": 38,
   "id": "2a2a164c",
   "metadata": {},
   "outputs": [
    {
     "name": "stderr",
     "output_type": "stream",
     "text": [
      "/var/folders/6y/7f8ql7d92zs0sclx2vbczpk80000gn/T/ipykernel_60939/3539443889.py:2: SettingWithCopyWarning: \n",
      "A value is trying to be set on a copy of a slice from a DataFrame.\n",
      "Try using .loc[row_indexer,col_indexer] = value instead\n",
      "\n",
      "See the caveats in the documentation: https://pandas.pydata.org/pandas-docs/stable/user_guide/indexing.html#returning-a-view-versus-a-copy\n",
      "  df_top_2_rows['abr_rating'] = df_top_2_rows['abr_rating'].astype(str)\n"
     ]
    }
   ],
   "source": [
    "# Convert the column to strings, if necessary\n",
    "df_top_2_rows['abr_rating'] = df_top_2_rows['abr_rating'].astype(str)"
   ]
  },
  {
   "cell_type": "code",
   "execution_count": 42,
   "id": "0120d728",
   "metadata": {},
   "outputs": [
    {
     "name": "stderr",
     "output_type": "stream",
     "text": [
      "/var/folders/6y/7f8ql7d92zs0sclx2vbczpk80000gn/T/ipykernel_60939/2243370448.py:1: SettingWithCopyWarning: \n",
      "A value is trying to be set on a copy of a slice from a DataFrame.\n",
      "Try using .loc[row_indexer,col_indexer] = value instead\n",
      "\n",
      "See the caveats in the documentation: https://pandas.pydata.org/pandas-docs/stable/user_guide/indexing.html#returning-a-view-versus-a-copy\n",
      "  df_top_2_rows[\"numb\"] = df_top_2_rows['abr_rating'].apply(extract_number)\n"
     ]
    }
   ],
   "source": [
    "df_top_2_rows[\"numb\"] = df_top_2_rows['abr_rating'].apply(extract_number)"
   ]
  },
  {
   "cell_type": "code",
   "execution_count": 43,
   "id": "8c9f5444",
   "metadata": {},
   "outputs": [
    {
     "data": {
      "text/plain": [
       "0       40\n",
       "6       40\n",
       "10      40\n",
       "14    None\n",
       "19      30\n",
       "26      20\n",
       "31      90\n",
       "36      20\n",
       "38      45\n",
       "42      20\n",
       "Name: numb, dtype: object"
      ]
     },
     "execution_count": 43,
     "metadata": {},
     "output_type": "execute_result"
    }
   ],
   "source": [
    "df_top_2_rows[\"numb\"]"
   ]
  },
  {
   "cell_type": "code",
   "execution_count": null,
   "id": "acdd0fe5",
   "metadata": {},
   "outputs": [],
   "source": []
  },
  {
   "cell_type": "code",
   "execution_count": null,
   "id": "7dbf1167",
   "metadata": {},
   "outputs": [],
   "source": []
  },
  {
   "cell_type": "code",
   "execution_count": 17,
   "id": "d6540f4e",
   "metadata": {},
   "outputs": [
    {
     "ename": "KeyError",
     "evalue": "'risk_level_abr'",
     "output_type": "error",
     "traceback": [
      "\u001b[0;31m---------------------------------------------------------------------------\u001b[0m",
      "\u001b[0;31mKeyError\u001b[0m                                  Traceback (most recent call last)",
      "\u001b[0;32m~/opt/anaconda3/lib/python3.9/site-packages/pandas/core/indexes/base.py\u001b[0m in \u001b[0;36mget_loc\u001b[0;34m(self, key, method, tolerance)\u001b[0m\n\u001b[1;32m   3360\u001b[0m             \u001b[0;32mtry\u001b[0m\u001b[0;34m:\u001b[0m\u001b[0;34m\u001b[0m\u001b[0;34m\u001b[0m\u001b[0m\n\u001b[0;32m-> 3361\u001b[0;31m                 \u001b[0;32mreturn\u001b[0m \u001b[0mself\u001b[0m\u001b[0;34m.\u001b[0m\u001b[0m_engine\u001b[0m\u001b[0;34m.\u001b[0m\u001b[0mget_loc\u001b[0m\u001b[0;34m(\u001b[0m\u001b[0mcasted_key\u001b[0m\u001b[0;34m)\u001b[0m\u001b[0;34m\u001b[0m\u001b[0;34m\u001b[0m\u001b[0m\n\u001b[0m\u001b[1;32m   3362\u001b[0m             \u001b[0;32mexcept\u001b[0m \u001b[0mKeyError\u001b[0m \u001b[0;32mas\u001b[0m \u001b[0merr\u001b[0m\u001b[0;34m:\u001b[0m\u001b[0;34m\u001b[0m\u001b[0;34m\u001b[0m\u001b[0m\n",
      "\u001b[0;32m~/opt/anaconda3/lib/python3.9/site-packages/pandas/_libs/index.pyx\u001b[0m in \u001b[0;36mpandas._libs.index.IndexEngine.get_loc\u001b[0;34m()\u001b[0m\n",
      "\u001b[0;32m~/opt/anaconda3/lib/python3.9/site-packages/pandas/_libs/index.pyx\u001b[0m in \u001b[0;36mpandas._libs.index.IndexEngine.get_loc\u001b[0;34m()\u001b[0m\n",
      "\u001b[0;32mpandas/_libs/hashtable_class_helper.pxi\u001b[0m in \u001b[0;36mpandas._libs.hashtable.PyObjectHashTable.get_item\u001b[0;34m()\u001b[0m\n",
      "\u001b[0;32mpandas/_libs/hashtable_class_helper.pxi\u001b[0m in \u001b[0;36mpandas._libs.hashtable.PyObjectHashTable.get_item\u001b[0;34m()\u001b[0m\n",
      "\u001b[0;31mKeyError\u001b[0m: 'risk_level_abr'",
      "\nThe above exception was the direct cause of the following exception:\n",
      "\u001b[0;31mKeyError\u001b[0m                                  Traceback (most recent call last)",
      "\u001b[0;32m/var/folders/6y/7f8ql7d92zs0sclx2vbczpk80000gn/T/ipykernel_60939/4272458134.py\u001b[0m in \u001b[0;36m<module>\u001b[0;34m\u001b[0m\n\u001b[1;32m      1\u001b[0m \u001b[0;31m# Convert the column to strings, if necessary\u001b[0m\u001b[0;34m\u001b[0m\u001b[0;34m\u001b[0m\u001b[0m\n\u001b[0;32m----> 2\u001b[0;31m \u001b[0mdf_top_2_rows\u001b[0m\u001b[0;34m[\u001b[0m\u001b[0;34m'risk_level_abr'\u001b[0m\u001b[0;34m]\u001b[0m \u001b[0;34m=\u001b[0m \u001b[0mdf_top_2_rows\u001b[0m\u001b[0;34m[\u001b[0m\u001b[0;34m'risk_level_abr'\u001b[0m\u001b[0;34m]\u001b[0m\u001b[0;34m.\u001b[0m\u001b[0mastype\u001b[0m\u001b[0;34m(\u001b[0m\u001b[0mstr\u001b[0m\u001b[0;34m)\u001b[0m\u001b[0;34m\u001b[0m\u001b[0;34m\u001b[0m\u001b[0m\n\u001b[0m\u001b[1;32m      3\u001b[0m \u001b[0;34m\u001b[0m\u001b[0m\n\u001b[1;32m      4\u001b[0m \u001b[0mfile_path\u001b[0m \u001b[0;34m=\u001b[0m \u001b[0;34m'/Users/timothywaterman/Desktop/LLM/augmented_notes_30K.jsonl'\u001b[0m\u001b[0;34m\u001b[0m\u001b[0;34m\u001b[0m\u001b[0m\n\u001b[1;32m      5\u001b[0m \u001b[0;34m\u001b[0m\u001b[0m\n",
      "\u001b[0;32m~/opt/anaconda3/lib/python3.9/site-packages/pandas/core/frame.py\u001b[0m in \u001b[0;36m__getitem__\u001b[0;34m(self, key)\u001b[0m\n\u001b[1;32m   3456\u001b[0m             \u001b[0;32mif\u001b[0m \u001b[0mself\u001b[0m\u001b[0;34m.\u001b[0m\u001b[0mcolumns\u001b[0m\u001b[0;34m.\u001b[0m\u001b[0mnlevels\u001b[0m \u001b[0;34m>\u001b[0m \u001b[0;36m1\u001b[0m\u001b[0;34m:\u001b[0m\u001b[0;34m\u001b[0m\u001b[0;34m\u001b[0m\u001b[0m\n\u001b[1;32m   3457\u001b[0m                 \u001b[0;32mreturn\u001b[0m \u001b[0mself\u001b[0m\u001b[0;34m.\u001b[0m\u001b[0m_getitem_multilevel\u001b[0m\u001b[0;34m(\u001b[0m\u001b[0mkey\u001b[0m\u001b[0;34m)\u001b[0m\u001b[0;34m\u001b[0m\u001b[0;34m\u001b[0m\u001b[0m\n\u001b[0;32m-> 3458\u001b[0;31m             \u001b[0mindexer\u001b[0m \u001b[0;34m=\u001b[0m \u001b[0mself\u001b[0m\u001b[0;34m.\u001b[0m\u001b[0mcolumns\u001b[0m\u001b[0;34m.\u001b[0m\u001b[0mget_loc\u001b[0m\u001b[0;34m(\u001b[0m\u001b[0mkey\u001b[0m\u001b[0;34m)\u001b[0m\u001b[0;34m\u001b[0m\u001b[0;34m\u001b[0m\u001b[0m\n\u001b[0m\u001b[1;32m   3459\u001b[0m             \u001b[0;32mif\u001b[0m \u001b[0mis_integer\u001b[0m\u001b[0;34m(\u001b[0m\u001b[0mindexer\u001b[0m\u001b[0;34m)\u001b[0m\u001b[0;34m:\u001b[0m\u001b[0;34m\u001b[0m\u001b[0;34m\u001b[0m\u001b[0m\n\u001b[1;32m   3460\u001b[0m                 \u001b[0mindexer\u001b[0m \u001b[0;34m=\u001b[0m \u001b[0;34m[\u001b[0m\u001b[0mindexer\u001b[0m\u001b[0;34m]\u001b[0m\u001b[0;34m\u001b[0m\u001b[0;34m\u001b[0m\u001b[0m\n",
      "\u001b[0;32m~/opt/anaconda3/lib/python3.9/site-packages/pandas/core/indexes/base.py\u001b[0m in \u001b[0;36mget_loc\u001b[0;34m(self, key, method, tolerance)\u001b[0m\n\u001b[1;32m   3361\u001b[0m                 \u001b[0;32mreturn\u001b[0m \u001b[0mself\u001b[0m\u001b[0;34m.\u001b[0m\u001b[0m_engine\u001b[0m\u001b[0;34m.\u001b[0m\u001b[0mget_loc\u001b[0m\u001b[0;34m(\u001b[0m\u001b[0mcasted_key\u001b[0m\u001b[0;34m)\u001b[0m\u001b[0;34m\u001b[0m\u001b[0;34m\u001b[0m\u001b[0m\n\u001b[1;32m   3362\u001b[0m             \u001b[0;32mexcept\u001b[0m \u001b[0mKeyError\u001b[0m \u001b[0;32mas\u001b[0m \u001b[0merr\u001b[0m\u001b[0;34m:\u001b[0m\u001b[0;34m\u001b[0m\u001b[0;34m\u001b[0m\u001b[0m\n\u001b[0;32m-> 3363\u001b[0;31m                 \u001b[0;32mraise\u001b[0m \u001b[0mKeyError\u001b[0m\u001b[0;34m(\u001b[0m\u001b[0mkey\u001b[0m\u001b[0;34m)\u001b[0m \u001b[0;32mfrom\u001b[0m \u001b[0merr\u001b[0m\u001b[0;34m\u001b[0m\u001b[0;34m\u001b[0m\u001b[0m\n\u001b[0m\u001b[1;32m   3364\u001b[0m \u001b[0;34m\u001b[0m\u001b[0m\n\u001b[1;32m   3365\u001b[0m         \u001b[0;32mif\u001b[0m \u001b[0mis_scalar\u001b[0m\u001b[0;34m(\u001b[0m\u001b[0mkey\u001b[0m\u001b[0;34m)\u001b[0m \u001b[0;32mand\u001b[0m \u001b[0misna\u001b[0m\u001b[0;34m(\u001b[0m\u001b[0mkey\u001b[0m\u001b[0;34m)\u001b[0m \u001b[0;32mand\u001b[0m \u001b[0;32mnot\u001b[0m \u001b[0mself\u001b[0m\u001b[0;34m.\u001b[0m\u001b[0mhasnans\u001b[0m\u001b[0;34m:\u001b[0m\u001b[0;34m\u001b[0m\u001b[0;34m\u001b[0m\u001b[0m\n",
      "\u001b[0;31mKeyError\u001b[0m: 'risk_level_abr'"
     ]
    }
   ],
   "source": [
    "\n",
    "\n",
    "file_path = '/Users/timothywaterman/Desktop/LLM/augmented_notes_30K.jsonl'\n",
    "\n",
    "# Open the file and load each line as a JSON object\n",
    "with open(file_path, 'r') as file:\n",
    "    data = [json.loads(line) for line in file]\n",
    "\n",
    "# Convert the list of JSON objects into a pandas DataFrame\n",
    "df = pd.DataFrame(data)"
   ]
  },
  {
   "cell_type": "code",
   "execution_count": null,
   "id": "286aa048",
   "metadata": {},
   "outputs": [],
   "source": [
    "print(df_top_2_rows.numb[0])\n",
    "print(df_top_2_rows.numb[1])\n",
    "print(df_top_2_rows.numb[2])\n",
    "print(df_top_2_rows.numb[3])\n",
    "print(df_top_2_rows.numb[4])\n",
    "print(df_top_2_rows.numb[5])\n",
    "print(df_top_2_rows.numb[6])\n",
    "print(df_top_2_rows.numb[7])\n",
    "print(df_top_2_rows.numb[8])\n",
    "print(df_top_2_rows.numb[9])\n",
    "print(df_top_2_rows.numb[10])"
   ]
  },
  {
   "cell_type": "code",
   "execution_count": null,
   "id": "e92d4976",
   "metadata": {},
   "outputs": [],
   "source": []
  },
  {
   "cell_type": "code",
   "execution_count": 74,
   "id": "ab65da17",
   "metadata": {},
   "outputs": [
    {
     "name": "stdout",
     "output_type": "stream",
     "text": [
      "90\n"
     ]
    }
   ],
   "source": [
    "# Display the DataFrame to check results\n",
    "print(df_top_2_rows.numb[0])"
   ]
  },
  {
   "cell_type": "code",
   "execution_count": null,
   "id": "c426d192",
   "metadata": {},
   "outputs": [],
   "source": []
  },
  {
   "cell_type": "code",
   "execution_count": null,
   "id": "e41bb03d",
   "metadata": {},
   "outputs": [],
   "source": []
  },
  {
   "cell_type": "code",
   "execution_count": 67,
   "id": "4e57d4bc",
   "metadata": {},
   "outputs": [],
   "source": [
    "def extract_number(text):\n",
    "    match = re.search(r\"content='(\\d+)'\", text)\n",
    "    if match:\n",
    "        return match.group(1)\n",
    "    return None  # Return None if no match is found"
   ]
  },
  {
   "cell_type": "code",
   "execution_count": 69,
   "id": "23690078",
   "metadata": {},
   "outputs": [
    {
     "ename": "TypeError",
     "evalue": "expected string or bytes-like object",
     "output_type": "error",
     "traceback": [
      "\u001b[0;31m---------------------------------------------------------------------------\u001b[0m",
      "\u001b[0;31mTypeError\u001b[0m                                 Traceback (most recent call last)",
      "\u001b[0;32m/var/folders/6y/7f8ql7d92zs0sclx2vbczpk80000gn/T/ipykernel_58965/2520659202.py\u001b[0m in \u001b[0;36m<module>\u001b[0;34m\u001b[0m\n\u001b[0;32m----> 1\u001b[0;31m \u001b[0mdf_top_2_rows\u001b[0m\u001b[0;34m[\u001b[0m\u001b[0;34m\"numb\"\u001b[0m\u001b[0;34m]\u001b[0m \u001b[0;34m=\u001b[0m \u001b[0mdf_top_2_rows\u001b[0m\u001b[0;34m[\u001b[0m\u001b[0;34m'risk_level_abr'\u001b[0m\u001b[0;34m]\u001b[0m\u001b[0;34m.\u001b[0m\u001b[0mapply\u001b[0m\u001b[0;34m(\u001b[0m\u001b[0mextract_number\u001b[0m\u001b[0;34m)\u001b[0m\u001b[0;34m\u001b[0m\u001b[0;34m\u001b[0m\u001b[0m\n\u001b[0m",
      "\u001b[0;32m~/opt/anaconda3/lib/python3.9/site-packages/pandas/core/series.py\u001b[0m in \u001b[0;36mapply\u001b[0;34m(self, func, convert_dtype, args, **kwargs)\u001b[0m\n\u001b[1;32m   4355\u001b[0m         \u001b[0mdtype\u001b[0m\u001b[0;34m:\u001b[0m \u001b[0mfloat64\u001b[0m\u001b[0;34m\u001b[0m\u001b[0;34m\u001b[0m\u001b[0m\n\u001b[1;32m   4356\u001b[0m         \"\"\"\n\u001b[0;32m-> 4357\u001b[0;31m         \u001b[0;32mreturn\u001b[0m \u001b[0mSeriesApply\u001b[0m\u001b[0;34m(\u001b[0m\u001b[0mself\u001b[0m\u001b[0;34m,\u001b[0m \u001b[0mfunc\u001b[0m\u001b[0;34m,\u001b[0m \u001b[0mconvert_dtype\u001b[0m\u001b[0;34m,\u001b[0m \u001b[0margs\u001b[0m\u001b[0;34m,\u001b[0m \u001b[0mkwargs\u001b[0m\u001b[0;34m)\u001b[0m\u001b[0;34m.\u001b[0m\u001b[0mapply\u001b[0m\u001b[0;34m(\u001b[0m\u001b[0;34m)\u001b[0m\u001b[0;34m\u001b[0m\u001b[0;34m\u001b[0m\u001b[0m\n\u001b[0m\u001b[1;32m   4358\u001b[0m \u001b[0;34m\u001b[0m\u001b[0m\n\u001b[1;32m   4359\u001b[0m     def _reduce(\n",
      "\u001b[0;32m~/opt/anaconda3/lib/python3.9/site-packages/pandas/core/apply.py\u001b[0m in \u001b[0;36mapply\u001b[0;34m(self)\u001b[0m\n\u001b[1;32m   1041\u001b[0m             \u001b[0;32mreturn\u001b[0m \u001b[0mself\u001b[0m\u001b[0;34m.\u001b[0m\u001b[0mapply_str\u001b[0m\u001b[0;34m(\u001b[0m\u001b[0;34m)\u001b[0m\u001b[0;34m\u001b[0m\u001b[0;34m\u001b[0m\u001b[0m\n\u001b[1;32m   1042\u001b[0m \u001b[0;34m\u001b[0m\u001b[0m\n\u001b[0;32m-> 1043\u001b[0;31m         \u001b[0;32mreturn\u001b[0m \u001b[0mself\u001b[0m\u001b[0;34m.\u001b[0m\u001b[0mapply_standard\u001b[0m\u001b[0;34m(\u001b[0m\u001b[0;34m)\u001b[0m\u001b[0;34m\u001b[0m\u001b[0;34m\u001b[0m\u001b[0m\n\u001b[0m\u001b[1;32m   1044\u001b[0m \u001b[0;34m\u001b[0m\u001b[0m\n\u001b[1;32m   1045\u001b[0m     \u001b[0;32mdef\u001b[0m \u001b[0magg\u001b[0m\u001b[0;34m(\u001b[0m\u001b[0mself\u001b[0m\u001b[0;34m)\u001b[0m\u001b[0;34m:\u001b[0m\u001b[0;34m\u001b[0m\u001b[0;34m\u001b[0m\u001b[0m\n",
      "\u001b[0;32m~/opt/anaconda3/lib/python3.9/site-packages/pandas/core/apply.py\u001b[0m in \u001b[0;36mapply_standard\u001b[0;34m(self)\u001b[0m\n\u001b[1;32m   1096\u001b[0m                 \u001b[0;31m# List[Union[Callable[..., Any], str]]]]]\"; expected\u001b[0m\u001b[0;34m\u001b[0m\u001b[0;34m\u001b[0m\u001b[0m\n\u001b[1;32m   1097\u001b[0m                 \u001b[0;31m# \"Callable[[Any], Any]\"\u001b[0m\u001b[0;34m\u001b[0m\u001b[0;34m\u001b[0m\u001b[0m\n\u001b[0;32m-> 1098\u001b[0;31m                 mapped = lib.map_infer(\n\u001b[0m\u001b[1;32m   1099\u001b[0m                     \u001b[0mvalues\u001b[0m\u001b[0;34m,\u001b[0m\u001b[0;34m\u001b[0m\u001b[0;34m\u001b[0m\u001b[0m\n\u001b[1;32m   1100\u001b[0m                     \u001b[0mf\u001b[0m\u001b[0;34m,\u001b[0m  \u001b[0;31m# type: ignore[arg-type]\u001b[0m\u001b[0;34m\u001b[0m\u001b[0;34m\u001b[0m\u001b[0m\n",
      "\u001b[0;32m~/opt/anaconda3/lib/python3.9/site-packages/pandas/_libs/lib.pyx\u001b[0m in \u001b[0;36mpandas._libs.lib.map_infer\u001b[0;34m()\u001b[0m\n",
      "\u001b[0;32m/var/folders/6y/7f8ql7d92zs0sclx2vbczpk80000gn/T/ipykernel_58965/3245684290.py\u001b[0m in \u001b[0;36mextract_number\u001b[0;34m(text)\u001b[0m\n\u001b[1;32m      1\u001b[0m \u001b[0;32mdef\u001b[0m \u001b[0mextract_number\u001b[0m\u001b[0;34m(\u001b[0m\u001b[0mtext\u001b[0m\u001b[0;34m)\u001b[0m\u001b[0;34m:\u001b[0m\u001b[0;34m\u001b[0m\u001b[0;34m\u001b[0m\u001b[0m\n\u001b[0;32m----> 2\u001b[0;31m     \u001b[0mmatch\u001b[0m \u001b[0;34m=\u001b[0m \u001b[0mre\u001b[0m\u001b[0;34m.\u001b[0m\u001b[0msearch\u001b[0m\u001b[0;34m(\u001b[0m\u001b[0;34mr\"content='(\\d+)'\"\u001b[0m\u001b[0;34m,\u001b[0m \u001b[0mtext\u001b[0m\u001b[0;34m)\u001b[0m\u001b[0;34m\u001b[0m\u001b[0;34m\u001b[0m\u001b[0m\n\u001b[0m\u001b[1;32m      3\u001b[0m     \u001b[0;32mif\u001b[0m \u001b[0mmatch\u001b[0m\u001b[0;34m:\u001b[0m\u001b[0;34m\u001b[0m\u001b[0;34m\u001b[0m\u001b[0m\n\u001b[1;32m      4\u001b[0m         \u001b[0;32mreturn\u001b[0m \u001b[0mmatch\u001b[0m\u001b[0;34m.\u001b[0m\u001b[0mgroup\u001b[0m\u001b[0;34m(\u001b[0m\u001b[0;36m1\u001b[0m\u001b[0;34m)\u001b[0m\u001b[0;34m\u001b[0m\u001b[0;34m\u001b[0m\u001b[0m\n\u001b[1;32m      5\u001b[0m     \u001b[0;32mreturn\u001b[0m \u001b[0;32mNone\u001b[0m  \u001b[0;31m# Return None if no match is found\u001b[0m\u001b[0;34m\u001b[0m\u001b[0;34m\u001b[0m\u001b[0m\n",
      "\u001b[0;32m~/opt/anaconda3/lib/python3.9/re.py\u001b[0m in \u001b[0;36msearch\u001b[0;34m(pattern, string, flags)\u001b[0m\n\u001b[1;32m    199\u001b[0m     \"\"\"Scan through string looking for a match to the pattern, returning\n\u001b[1;32m    200\u001b[0m     a Match object, or None if no match was found.\"\"\"\n\u001b[0;32m--> 201\u001b[0;31m     \u001b[0;32mreturn\u001b[0m \u001b[0m_compile\u001b[0m\u001b[0;34m(\u001b[0m\u001b[0mpattern\u001b[0m\u001b[0;34m,\u001b[0m \u001b[0mflags\u001b[0m\u001b[0;34m)\u001b[0m\u001b[0;34m.\u001b[0m\u001b[0msearch\u001b[0m\u001b[0;34m(\u001b[0m\u001b[0mstring\u001b[0m\u001b[0;34m)\u001b[0m\u001b[0;34m\u001b[0m\u001b[0;34m\u001b[0m\u001b[0m\n\u001b[0m\u001b[1;32m    202\u001b[0m \u001b[0;34m\u001b[0m\u001b[0m\n\u001b[1;32m    203\u001b[0m \u001b[0;32mdef\u001b[0m \u001b[0msub\u001b[0m\u001b[0;34m(\u001b[0m\u001b[0mpattern\u001b[0m\u001b[0;34m,\u001b[0m \u001b[0mrepl\u001b[0m\u001b[0;34m,\u001b[0m \u001b[0mstring\u001b[0m\u001b[0;34m,\u001b[0m \u001b[0mcount\u001b[0m\u001b[0;34m=\u001b[0m\u001b[0;36m0\u001b[0m\u001b[0;34m,\u001b[0m \u001b[0mflags\u001b[0m\u001b[0;34m=\u001b[0m\u001b[0;36m0\u001b[0m\u001b[0;34m)\u001b[0m\u001b[0;34m:\u001b[0m\u001b[0;34m\u001b[0m\u001b[0;34m\u001b[0m\u001b[0m\n",
      "\u001b[0;31mTypeError\u001b[0m: expected string or bytes-like object"
     ]
    }
   ],
   "source": [
    "df_top_2_rows[\"numb\"] = df_top_2_rows['risk_level_abr'].apply(extract_number)"
   ]
  },
  {
   "cell_type": "code",
   "execution_count": null,
   "id": "b38348cb",
   "metadata": {},
   "outputs": [],
   "source": [
    "df['rating'] = df['risk_level_abr'].apply(extract_number)"
   ]
  },
  {
   "cell_type": "code",
   "execution_count": 51,
   "id": "2ffd60d9",
   "metadata": {},
   "outputs": [],
   "source": [
    "import re"
   ]
  },
  {
   "cell_type": "code",
   "execution_count": 63,
   "id": "deb9d9e3",
   "metadata": {},
   "outputs": [],
   "source": []
  },
  {
   "cell_type": "code",
   "execution_count": 64,
   "id": "dc113c44",
   "metadata": {},
   "outputs": [
    {
     "ename": "TypeError",
     "evalue": "can only concatenate str (not \"ChatResponse\") to str",
     "output_type": "error",
     "traceback": [
      "\u001b[0;31m---------------------------------------------------------------------------\u001b[0m",
      "\u001b[0;31mTypeError\u001b[0m                                 Traceback (most recent call last)",
      "\u001b[0;32m/var/folders/6y/7f8ql7d92zs0sclx2vbczpk80000gn/T/ipykernel_58965/20214014.py\u001b[0m in \u001b[0;36m<module>\u001b[0;34m\u001b[0m\n\u001b[0;32m----> 1\u001b[0;31m \u001b[0mdf_top_2_rows\u001b[0m\u001b[0;34m.\u001b[0m\u001b[0mloc\u001b[0m\u001b[0;34m[\u001b[0m\u001b[0;34m:\u001b[0m\u001b[0;34m,\u001b[0m \u001b[0;34m'rating'\u001b[0m\u001b[0;34m]\u001b[0m \u001b[0;34m=\u001b[0m \u001b[0mdf_top_2_rows\u001b[0m\u001b[0;34m[\u001b[0m\u001b[0;34m'risk_level_abr'\u001b[0m\u001b[0;34m]\u001b[0m\u001b[0;34m.\u001b[0m\u001b[0mapply\u001b[0m\u001b[0;34m(\u001b[0m\u001b[0;32mlambda\u001b[0m \u001b[0mx\u001b[0m\u001b[0;34m:\u001b[0m \u001b[0mget_chat_response\u001b[0m\u001b[0;34m(\u001b[0m\u001b[0madditional_text_5\u001b[0m \u001b[0;34m+\u001b[0m \u001b[0mx\u001b[0m\u001b[0;34m)\u001b[0m\u001b[0;34m)\u001b[0m\u001b[0;34m\u001b[0m\u001b[0;34m\u001b[0m\u001b[0m\n\u001b[0m",
      "\u001b[0;32m~/opt/anaconda3/lib/python3.9/site-packages/pandas/core/series.py\u001b[0m in \u001b[0;36mapply\u001b[0;34m(self, func, convert_dtype, args, **kwargs)\u001b[0m\n\u001b[1;32m   4355\u001b[0m         \u001b[0mdtype\u001b[0m\u001b[0;34m:\u001b[0m \u001b[0mfloat64\u001b[0m\u001b[0;34m\u001b[0m\u001b[0;34m\u001b[0m\u001b[0m\n\u001b[1;32m   4356\u001b[0m         \"\"\"\n\u001b[0;32m-> 4357\u001b[0;31m         \u001b[0;32mreturn\u001b[0m \u001b[0mSeriesApply\u001b[0m\u001b[0;34m(\u001b[0m\u001b[0mself\u001b[0m\u001b[0;34m,\u001b[0m \u001b[0mfunc\u001b[0m\u001b[0;34m,\u001b[0m \u001b[0mconvert_dtype\u001b[0m\u001b[0;34m,\u001b[0m \u001b[0margs\u001b[0m\u001b[0;34m,\u001b[0m \u001b[0mkwargs\u001b[0m\u001b[0;34m)\u001b[0m\u001b[0;34m.\u001b[0m\u001b[0mapply\u001b[0m\u001b[0;34m(\u001b[0m\u001b[0;34m)\u001b[0m\u001b[0;34m\u001b[0m\u001b[0;34m\u001b[0m\u001b[0m\n\u001b[0m\u001b[1;32m   4358\u001b[0m \u001b[0;34m\u001b[0m\u001b[0m\n\u001b[1;32m   4359\u001b[0m     def _reduce(\n",
      "\u001b[0;32m~/opt/anaconda3/lib/python3.9/site-packages/pandas/core/apply.py\u001b[0m in \u001b[0;36mapply\u001b[0;34m(self)\u001b[0m\n\u001b[1;32m   1041\u001b[0m             \u001b[0;32mreturn\u001b[0m \u001b[0mself\u001b[0m\u001b[0;34m.\u001b[0m\u001b[0mapply_str\u001b[0m\u001b[0;34m(\u001b[0m\u001b[0;34m)\u001b[0m\u001b[0;34m\u001b[0m\u001b[0;34m\u001b[0m\u001b[0m\n\u001b[1;32m   1042\u001b[0m \u001b[0;34m\u001b[0m\u001b[0m\n\u001b[0;32m-> 1043\u001b[0;31m         \u001b[0;32mreturn\u001b[0m \u001b[0mself\u001b[0m\u001b[0;34m.\u001b[0m\u001b[0mapply_standard\u001b[0m\u001b[0;34m(\u001b[0m\u001b[0;34m)\u001b[0m\u001b[0;34m\u001b[0m\u001b[0;34m\u001b[0m\u001b[0m\n\u001b[0m\u001b[1;32m   1044\u001b[0m \u001b[0;34m\u001b[0m\u001b[0m\n\u001b[1;32m   1045\u001b[0m     \u001b[0;32mdef\u001b[0m \u001b[0magg\u001b[0m\u001b[0;34m(\u001b[0m\u001b[0mself\u001b[0m\u001b[0;34m)\u001b[0m\u001b[0;34m:\u001b[0m\u001b[0;34m\u001b[0m\u001b[0;34m\u001b[0m\u001b[0m\n",
      "\u001b[0;32m~/opt/anaconda3/lib/python3.9/site-packages/pandas/core/apply.py\u001b[0m in \u001b[0;36mapply_standard\u001b[0;34m(self)\u001b[0m\n\u001b[1;32m   1096\u001b[0m                 \u001b[0;31m# List[Union[Callable[..., Any], str]]]]]\"; expected\u001b[0m\u001b[0;34m\u001b[0m\u001b[0;34m\u001b[0m\u001b[0m\n\u001b[1;32m   1097\u001b[0m                 \u001b[0;31m# \"Callable[[Any], Any]\"\u001b[0m\u001b[0;34m\u001b[0m\u001b[0;34m\u001b[0m\u001b[0m\n\u001b[0;32m-> 1098\u001b[0;31m                 mapped = lib.map_infer(\n\u001b[0m\u001b[1;32m   1099\u001b[0m                     \u001b[0mvalues\u001b[0m\u001b[0;34m,\u001b[0m\u001b[0;34m\u001b[0m\u001b[0;34m\u001b[0m\u001b[0m\n\u001b[1;32m   1100\u001b[0m                     \u001b[0mf\u001b[0m\u001b[0;34m,\u001b[0m  \u001b[0;31m# type: ignore[arg-type]\u001b[0m\u001b[0;34m\u001b[0m\u001b[0;34m\u001b[0m\u001b[0m\n",
      "\u001b[0;32m~/opt/anaconda3/lib/python3.9/site-packages/pandas/_libs/lib.pyx\u001b[0m in \u001b[0;36mpandas._libs.lib.map_infer\u001b[0;34m()\u001b[0m\n",
      "\u001b[0;32m/var/folders/6y/7f8ql7d92zs0sclx2vbczpk80000gn/T/ipykernel_58965/20214014.py\u001b[0m in \u001b[0;36m<lambda>\u001b[0;34m(x)\u001b[0m\n\u001b[0;32m----> 1\u001b[0;31m \u001b[0mdf_top_2_rows\u001b[0m\u001b[0;34m.\u001b[0m\u001b[0mloc\u001b[0m\u001b[0;34m[\u001b[0m\u001b[0;34m:\u001b[0m\u001b[0;34m,\u001b[0m \u001b[0;34m'rating'\u001b[0m\u001b[0;34m]\u001b[0m \u001b[0;34m=\u001b[0m \u001b[0mdf_top_2_rows\u001b[0m\u001b[0;34m[\u001b[0m\u001b[0;34m'risk_level_abr'\u001b[0m\u001b[0;34m]\u001b[0m\u001b[0;34m.\u001b[0m\u001b[0mapply\u001b[0m\u001b[0;34m(\u001b[0m\u001b[0;32mlambda\u001b[0m \u001b[0mx\u001b[0m\u001b[0;34m:\u001b[0m \u001b[0mget_chat_response\u001b[0m\u001b[0;34m(\u001b[0m\u001b[0madditional_text_5\u001b[0m \u001b[0;34m+\u001b[0m \u001b[0mx\u001b[0m\u001b[0;34m)\u001b[0m\u001b[0;34m)\u001b[0m\u001b[0;34m\u001b[0m\u001b[0;34m\u001b[0m\u001b[0m\n\u001b[0m",
      "\u001b[0;31mTypeError\u001b[0m: can only concatenate str (not \"ChatResponse\") to str"
     ]
    }
   ],
   "source": [
    "df_top_2_rows.loc[:, 'rating'] = df_top_2_rows['risk_level_abr'].apply(lambda x: get_chat_response(additional_text_5 + x))"
   ]
  },
  {
   "cell_type": "code",
   "execution_count": 59,
   "id": "47b5e407",
   "metadata": {},
   "outputs": [
    {
     "ename": "TypeError",
     "evalue": "can only concatenate str (not \"ChatResponse\") to str",
     "output_type": "error",
     "traceback": [
      "\u001b[0;31m---------------------------------------------------------------------------\u001b[0m",
      "\u001b[0;31mTypeError\u001b[0m                                 Traceback (most recent call last)",
      "\u001b[0;32m/var/folders/6y/7f8ql7d92zs0sclx2vbczpk80000gn/T/ipykernel_58965/3150284232.py\u001b[0m in \u001b[0;36m<module>\u001b[0;34m\u001b[0m\n\u001b[0;32m----> 1\u001b[0;31m \u001b[0mdf_top_2_rows\u001b[0m\u001b[0;34m.\u001b[0m\u001b[0mloc\u001b[0m\u001b[0;34m[\u001b[0m\u001b[0;34m:\u001b[0m\u001b[0;34m,\u001b[0m \u001b[0;34m'rating'\u001b[0m\u001b[0;34m]\u001b[0m \u001b[0;34m=\u001b[0m \u001b[0mdf_top_2_rows\u001b[0m\u001b[0;34m[\u001b[0m\u001b[0;34m'risk_level_abr'\u001b[0m\u001b[0;34m]\u001b[0m\u001b[0;34m.\u001b[0m\u001b[0mapply\u001b[0m\u001b[0;34m(\u001b[0m\u001b[0;32mlambda\u001b[0m \u001b[0mx\u001b[0m\u001b[0;34m:\u001b[0m \u001b[0mget_chat_response\u001b[0m\u001b[0;34m(\u001b[0m\u001b[0madditional_text_4\u001b[0m \u001b[0;34m+\u001b[0m \u001b[0mx\u001b[0m\u001b[0;34m)\u001b[0m\u001b[0;34m)\u001b[0m\u001b[0;34m\u001b[0m\u001b[0;34m\u001b[0m\u001b[0m\n\u001b[0m",
      "\u001b[0;32m~/opt/anaconda3/lib/python3.9/site-packages/pandas/core/series.py\u001b[0m in \u001b[0;36mapply\u001b[0;34m(self, func, convert_dtype, args, **kwargs)\u001b[0m\n\u001b[1;32m   4355\u001b[0m         \u001b[0mdtype\u001b[0m\u001b[0;34m:\u001b[0m \u001b[0mfloat64\u001b[0m\u001b[0;34m\u001b[0m\u001b[0;34m\u001b[0m\u001b[0m\n\u001b[1;32m   4356\u001b[0m         \"\"\"\n\u001b[0;32m-> 4357\u001b[0;31m         \u001b[0;32mreturn\u001b[0m \u001b[0mSeriesApply\u001b[0m\u001b[0;34m(\u001b[0m\u001b[0mself\u001b[0m\u001b[0;34m,\u001b[0m \u001b[0mfunc\u001b[0m\u001b[0;34m,\u001b[0m \u001b[0mconvert_dtype\u001b[0m\u001b[0;34m,\u001b[0m \u001b[0margs\u001b[0m\u001b[0;34m,\u001b[0m \u001b[0mkwargs\u001b[0m\u001b[0;34m)\u001b[0m\u001b[0;34m.\u001b[0m\u001b[0mapply\u001b[0m\u001b[0;34m(\u001b[0m\u001b[0;34m)\u001b[0m\u001b[0;34m\u001b[0m\u001b[0;34m\u001b[0m\u001b[0m\n\u001b[0m\u001b[1;32m   4358\u001b[0m \u001b[0;34m\u001b[0m\u001b[0m\n\u001b[1;32m   4359\u001b[0m     def _reduce(\n",
      "\u001b[0;32m~/opt/anaconda3/lib/python3.9/site-packages/pandas/core/apply.py\u001b[0m in \u001b[0;36mapply\u001b[0;34m(self)\u001b[0m\n\u001b[1;32m   1041\u001b[0m             \u001b[0;32mreturn\u001b[0m \u001b[0mself\u001b[0m\u001b[0;34m.\u001b[0m\u001b[0mapply_str\u001b[0m\u001b[0;34m(\u001b[0m\u001b[0;34m)\u001b[0m\u001b[0;34m\u001b[0m\u001b[0;34m\u001b[0m\u001b[0m\n\u001b[1;32m   1042\u001b[0m \u001b[0;34m\u001b[0m\u001b[0m\n\u001b[0;32m-> 1043\u001b[0;31m         \u001b[0;32mreturn\u001b[0m \u001b[0mself\u001b[0m\u001b[0;34m.\u001b[0m\u001b[0mapply_standard\u001b[0m\u001b[0;34m(\u001b[0m\u001b[0;34m)\u001b[0m\u001b[0;34m\u001b[0m\u001b[0;34m\u001b[0m\u001b[0m\n\u001b[0m\u001b[1;32m   1044\u001b[0m \u001b[0;34m\u001b[0m\u001b[0m\n\u001b[1;32m   1045\u001b[0m     \u001b[0;32mdef\u001b[0m \u001b[0magg\u001b[0m\u001b[0;34m(\u001b[0m\u001b[0mself\u001b[0m\u001b[0;34m)\u001b[0m\u001b[0;34m:\u001b[0m\u001b[0;34m\u001b[0m\u001b[0;34m\u001b[0m\u001b[0m\n",
      "\u001b[0;32m~/opt/anaconda3/lib/python3.9/site-packages/pandas/core/apply.py\u001b[0m in \u001b[0;36mapply_standard\u001b[0;34m(self)\u001b[0m\n\u001b[1;32m   1096\u001b[0m                 \u001b[0;31m# List[Union[Callable[..., Any], str]]]]]\"; expected\u001b[0m\u001b[0;34m\u001b[0m\u001b[0;34m\u001b[0m\u001b[0m\n\u001b[1;32m   1097\u001b[0m                 \u001b[0;31m# \"Callable[[Any], Any]\"\u001b[0m\u001b[0;34m\u001b[0m\u001b[0;34m\u001b[0m\u001b[0m\n\u001b[0;32m-> 1098\u001b[0;31m                 mapped = lib.map_infer(\n\u001b[0m\u001b[1;32m   1099\u001b[0m                     \u001b[0mvalues\u001b[0m\u001b[0;34m,\u001b[0m\u001b[0;34m\u001b[0m\u001b[0;34m\u001b[0m\u001b[0m\n\u001b[1;32m   1100\u001b[0m                     \u001b[0mf\u001b[0m\u001b[0;34m,\u001b[0m  \u001b[0;31m# type: ignore[arg-type]\u001b[0m\u001b[0;34m\u001b[0m\u001b[0;34m\u001b[0m\u001b[0m\n",
      "\u001b[0;32m~/opt/anaconda3/lib/python3.9/site-packages/pandas/_libs/lib.pyx\u001b[0m in \u001b[0;36mpandas._libs.lib.map_infer\u001b[0;34m()\u001b[0m\n",
      "\u001b[0;32m/var/folders/6y/7f8ql7d92zs0sclx2vbczpk80000gn/T/ipykernel_58965/3150284232.py\u001b[0m in \u001b[0;36m<lambda>\u001b[0;34m(x)\u001b[0m\n\u001b[0;32m----> 1\u001b[0;31m \u001b[0mdf_top_2_rows\u001b[0m\u001b[0;34m.\u001b[0m\u001b[0mloc\u001b[0m\u001b[0;34m[\u001b[0m\u001b[0;34m:\u001b[0m\u001b[0;34m,\u001b[0m \u001b[0;34m'rating'\u001b[0m\u001b[0;34m]\u001b[0m \u001b[0;34m=\u001b[0m \u001b[0mdf_top_2_rows\u001b[0m\u001b[0;34m[\u001b[0m\u001b[0;34m'risk_level_abr'\u001b[0m\u001b[0;34m]\u001b[0m\u001b[0;34m.\u001b[0m\u001b[0mapply\u001b[0m\u001b[0;34m(\u001b[0m\u001b[0;32mlambda\u001b[0m \u001b[0mx\u001b[0m\u001b[0;34m:\u001b[0m \u001b[0mget_chat_response\u001b[0m\u001b[0;34m(\u001b[0m\u001b[0madditional_text_4\u001b[0m \u001b[0;34m+\u001b[0m \u001b[0mx\u001b[0m\u001b[0;34m)\u001b[0m\u001b[0;34m)\u001b[0m\u001b[0;34m\u001b[0m\u001b[0;34m\u001b[0m\u001b[0m\n\u001b[0m",
      "\u001b[0;31mTypeError\u001b[0m: can only concatenate str (not \"ChatResponse\") to str"
     ]
    }
   ],
   "source": [
    "df_top_2_rows.loc[:, 'rating'] = df_top_2_rows['risk_level_abr'].apply(lambda x: get_chat_response(additional_text_4 + x))\n"
   ]
  },
  {
   "cell_type": "code",
   "execution_count": null,
   "id": "bbfe5807",
   "metadata": {},
   "outputs": [],
   "source": []
  },
  {
   "cell_type": "code",
   "execution_count": null,
   "id": "b0b0a05e",
   "metadata": {},
   "outputs": [],
   "source": [
    "file_path = '/Users/timothywaterman/Desktop/LLM/augmented_notes_30K.jsonl'\n",
    "\n",
    "# Open the file and load each line as a JSON object\n",
    "with open(file_path, 'r') as file:\n",
    "    data = [json.loads(line) for line in file]\n",
    "\n",
    "# Convert the list of JSON objects into a pandas DataFrame\n",
    "df = pd.DataFrame(data)\n",
    "\n",
    "df_top_2_rows.loc[:, 'top_concerns'] = df_top_2_rows['section_text'].apply(\n",
    "    lambda x: get_chat_response(additional_text + x))\n",
    "\n",
    "df_top_2_rows.loc[:, 'top_concerns_str'] = df_top_2_rows['top_concerns'].apply(\n",
    "    lambda x: str(x['content']) if isinstance(x, dict) and 'content' in x else str(x))"
   ]
  },
  {
   "cell_type": "code",
   "execution_count": 57,
   "id": "e5723591",
   "metadata": {},
   "outputs": [
    {
     "name": "stdout",
     "output_type": "stream",
     "text": [
      "   ID section_header                                       section_text  \\\n",
      "0   0          GENHX  The patient is a 55-year-old African-American ...   \n",
      "6   6          GENHX  The patient is a 77-year-old female who is una...   \n",
      "\n",
      "                                            dialogue  \\\n",
      "0  Doctor: Good afternoon, sir. Did you just have...   \n",
      "6  Guest_clinician: How old is the patient? \\nDoc...   \n",
      "\n",
      "                                      risk_level_abr extracted_number  \n",
      "0  model='llama3.2' created_at='2025-04-03T16:25:...             None  \n",
      "6  model='llama3.2' created_at='2025-04-03T16:25:...             None  \n"
     ]
    }
   ],
   "source": [
    "\n",
    "\n",
    "# Sample DataFrame (replace with your actual DataFrame)\n",
    "\n",
    "# Creating the DataFrame\n",
    "df_top_2_rows = pd.DataFrame(df_top_2_rows)\n",
    "\n",
    "# Function to extract the number in quotes after 'content'\n",
    "def extract_number(text):\n",
    "    # Ensure the text is a string, in case it's not\n",
    "    if isinstance(text, str):\n",
    "        match = re.search(r\"content='(\\d+)'\", text)\n",
    "        if match:\n",
    "            return match.group(1)\n",
    "    return None  # Return None if there's no match or the text is not a string\n",
    "\n",
    "# Use .loc to avoid the SettingWithCopyWarning and apply the function to the 'risk_level_abr' column\n",
    "df_top_2_rows.loc[:, 'extracted_number'] = df_top_2_rows['risk_level_abr'].apply(extract_number)\n",
    "\n",
    "# Display the DataFrame with the new column\n",
    "print(df_top_2_rows)\n"
   ]
  },
  {
   "cell_type": "code",
   "execution_count": 52,
   "id": "d29b6a32",
   "metadata": {},
   "outputs": [],
   "source": [
    "# Function to extract the number in quotes after 'content'\n",
    "def extract_number(text):\n",
    "    match = re.search(r\"content='(\\d+)'\", text)\n",
    "    if match:\n",
    "        return match.group(1)\n",
    "    return None"
   ]
  },
  {
   "cell_type": "code",
   "execution_count": 54,
   "id": "64d626db",
   "metadata": {},
   "outputs": [],
   "source": [
    "def extract_number(text):\n",
    "    # Ensure the text is a string, in case it's not\n",
    "    if isinstance(text, str):\n",
    "        match = re.search(r\"content='(\\d+)'\", text)\n",
    "        if match:\n",
    "            return match.group(1)\n",
    "    return None  # Return None if there's no match or the text is not a string"
   ]
  },
  {
   "cell_type": "code",
   "execution_count": 55,
   "id": "9faa3b0e",
   "metadata": {},
   "outputs": [
    {
     "name": "stderr",
     "output_type": "stream",
     "text": [
      "/var/folders/6y/7f8ql7d92zs0sclx2vbczpk80000gn/T/ipykernel_58965/2548095521.py:2: SettingWithCopyWarning: \n",
      "A value is trying to be set on a copy of a slice from a DataFrame.\n",
      "Try using .loc[row_indexer,col_indexer] = value instead\n",
      "\n",
      "See the caveats in the documentation: https://pandas.pydata.org/pandas-docs/stable/user_guide/indexing.html#returning-a-view-versus-a-copy\n",
      "  df_top_2_rows['extracted_number'] = df_top_2_rows['risk_level_abr'].apply(extract_number)\n"
     ]
    }
   ],
   "source": [
    "# Apply the function to the 'column1' and create a new column 'extracted_number'\n",
    "df_top_2_rows['extracted_number'] = df_top_2_rows['risk_level_abr'].apply(extract_number)"
   ]
  },
  {
   "cell_type": "code",
   "execution_count": 56,
   "id": "36d2fc5a",
   "metadata": {},
   "outputs": [
    {
     "name": "stdout",
     "output_type": "stream",
     "text": [
      "None\n",
      "/n\n",
      "None\n"
     ]
    }
   ],
   "source": [
    "print(df_top_2_rows.iloc[0].extracted_number)\n",
    "print(\"/n\")\n",
    "print(df_top_2_rows.iloc[1].extracted_number)"
   ]
  },
  {
   "cell_type": "code",
   "execution_count": 237,
   "id": "36b44b1d",
   "metadata": {},
   "outputs": [
    {
     "name": "stdout",
     "output_type": "stream",
     "text": [
      "model='llama3.2' created_at='2025-03-22T20:42:49.231383Z' done=True done_reason='stop' total_duration=49857883556 load_duration=93391526 prompt_eval_count=592 prompt_eval_duration=49596000000 eval_count=2 eval_duration=166000000 message=Message(role='assistant', content='high', images=None, tool_calls=None)\n",
      "model='llama3.2' created_at='2025-03-22T20:43:26.57924Z' done=True done_reason='stop' total_duration=37345565976 load_duration=22154922 prompt_eval_count=536 prompt_eval_duration=37154000000 eval_count=2 eval_duration=168000000 message=Message(role='assistant', content='medium', images=None, tool_calls=None)\n",
      "model='llama3.2' created_at='2025-03-22T20:44:06.170503Z' done=True done_reason='stop' total_duration=39588997803 load_duration=22076004 prompt_eval_count=550 prompt_eval_duration=39397000000 eval_count=2 eval_duration=166000000 message=Message(role='assistant', content='high', images=None, tool_calls=None)\n",
      "model='llama3.2' created_at='2025-03-22T20:44:43.176102Z' done=True done_reason='stop' total_duration=37003329166 load_duration=88303352 prompt_eval_count=525 prompt_eval_duration=36746000000 eval_count=2 eval_duration=167000000 message=Message(role='assistant', content='high', images=None, tool_calls=None)\n",
      "model='llama3.2' created_at='2025-03-22T20:45:35.830675Z' done=True done_reason='stop' total_duration=52651713059 load_duration=22102303 prompt_eval_count=711 prompt_eval_duration=52458000000 eval_count=2 eval_duration=167000000 message=Message(role='assistant', content='high', images=None, tool_calls=None)\n",
      "model='llama3.2' created_at='2025-03-22T20:46:11.956022Z' done=True done_reason='stop' total_duration=36121516746 load_duration=101613326 prompt_eval_count=519 prompt_eval_duration=35853000000 eval_count=2 eval_duration=166000000 message=Message(role='assistant', content='high', images=None, tool_calls=None)\n",
      "model='llama3.2' created_at='2025-03-22T20:46:46.931566Z' done=True done_reason='stop' total_duration=34973378058 load_duration=34843295 prompt_eval_count=506 prompt_eval_duration=34767000000 eval_count=2 eval_duration=170000000 message=Message(role='assistant', content='high', images=None, tool_calls=None)\n",
      "model='llama3.2' created_at='2025-03-22T20:47:30.17247Z' done=True done_reason='stop' total_duration=43238592171 load_duration=26042526 prompt_eval_count=603 prompt_eval_duration=43043000000 eval_count=2 eval_duration=168000000 message=Message(role='assistant', content='high', images=None, tool_calls=None)\n",
      "model='llama3.2' created_at='2025-03-22T20:48:16.002043Z' done=True done_reason='stop' total_duration=45827212166 load_duration=21726977 prompt_eval_count=634 prompt_eval_duration=45638000000 eval_count=2 eval_duration=166000000 message=Message(role='assistant', content='high', images=None, tool_calls=None)\n",
      "model='llama3.2' created_at='2025-03-22T20:48:51.273098Z' done=True done_reason='stop' total_duration=35268875427 load_duration=21738690 prompt_eval_count=509 prompt_eval_duration=35080000000 eval_count=2 eval_duration=166000000 message=Message(role='assistant', content='high', images=None, tool_calls=None)\n"
     ]
    }
   ],
   "source": [
    "print(df_top_2_rows.risk_level_abr[0])\n",
    "print(df_top_2_rows.risk_level_abr[1])\n",
    "print(df_top_2_rows.risk_level_abr[2])\n",
    "print(df_top_2_rows.risk_level_abr[3])\n",
    "print(df_top_2_rows.risk_level_abr[4])\n",
    "print(df_top_2_rows.risk_level_abr[5])\n",
    "print(df_top_2_rows.risk_level_abr[6])\n",
    "print(df_top_2_rows.risk_level_abr[7])\n",
    "print(df_top_2_rows.risk_level_abr[8])\n",
    "print(df_top_2_rows.risk_level_abr[9])"
   ]
  },
  {
   "cell_type": "code",
   "execution_count": null,
   "id": "90217c7c",
   "metadata": {},
   "outputs": [],
   "source": []
  },
  {
   "cell_type": "code",
   "execution_count": 8,
   "id": "678a3912",
   "metadata": {},
   "outputs": [],
   "source": [
    "additional_text_4 = \"\"\"Based off of the following below patient note, please provide a single risk rating \n",
    "(very_high, high, medium, low, very_low) of a medical complication occurring in the next year. Please return no \n",
    "additional text beyond these 5 ordinal rankings'\"\"\""
   ]
  },
  {
   "cell_type": "code",
   "execution_count": 15,
   "id": "a1c15dcb",
   "metadata": {},
   "outputs": [
    {
     "ename": "NameError",
     "evalue": "name 'additional' is not defined",
     "output_type": "error",
     "traceback": [
      "\u001b[0;31m---------------------------------------------------------------------------\u001b[0m",
      "\u001b[0;31mNameError\u001b[0m                                 Traceback (most recent call last)",
      "\u001b[0;32m/var/folders/6y/7f8ql7d92zs0sclx2vbczpk80000gn/T/ipykernel_19961/1911790792.py\u001b[0m in \u001b[0;36m<module>\u001b[0;34m\u001b[0m\n\u001b[0;32m----> 1\u001b[0;31m \u001b[0mdf_top_2_rows\u001b[0m\u001b[0;34m.\u001b[0m\u001b[0mloc\u001b[0m\u001b[0;34m[\u001b[0m\u001b[0;34m:\u001b[0m\u001b[0;34m,\u001b[0m \u001b[0;34m'top_concerns'\u001b[0m\u001b[0;34m]\u001b[0m \u001b[0;34m=\u001b[0m \u001b[0mdf_top_2_rows\u001b[0m\u001b[0;34m[\u001b[0m\u001b[0;34m'full_note'\u001b[0m\u001b[0;34m]\u001b[0m\u001b[0;34m.\u001b[0m\u001b[0mapply\u001b[0m\u001b[0;34m(\u001b[0m\u001b[0;32mlambda\u001b[0m \u001b[0mx\u001b[0m\u001b[0;34m:\u001b[0m \u001b[0mget_chat_response\u001b[0m\u001b[0;34m(\u001b[0m\u001b[0madditional\u001b[0m \u001b[0;34m+\u001b[0m \u001b[0mx\u001b[0m\u001b[0;34m)\u001b[0m\u001b[0;34m)\u001b[0m\u001b[0;34m\u001b[0m\u001b[0;34m\u001b[0m\u001b[0m\n\u001b[0m",
      "\u001b[0;32m~/opt/anaconda3/lib/python3.9/site-packages/pandas/core/series.py\u001b[0m in \u001b[0;36mapply\u001b[0;34m(self, func, convert_dtype, args, **kwargs)\u001b[0m\n\u001b[1;32m   4355\u001b[0m         \u001b[0mdtype\u001b[0m\u001b[0;34m:\u001b[0m \u001b[0mfloat64\u001b[0m\u001b[0;34m\u001b[0m\u001b[0;34m\u001b[0m\u001b[0m\n\u001b[1;32m   4356\u001b[0m         \"\"\"\n\u001b[0;32m-> 4357\u001b[0;31m         \u001b[0;32mreturn\u001b[0m \u001b[0mSeriesApply\u001b[0m\u001b[0;34m(\u001b[0m\u001b[0mself\u001b[0m\u001b[0;34m,\u001b[0m \u001b[0mfunc\u001b[0m\u001b[0;34m,\u001b[0m \u001b[0mconvert_dtype\u001b[0m\u001b[0;34m,\u001b[0m \u001b[0margs\u001b[0m\u001b[0;34m,\u001b[0m \u001b[0mkwargs\u001b[0m\u001b[0;34m)\u001b[0m\u001b[0;34m.\u001b[0m\u001b[0mapply\u001b[0m\u001b[0;34m(\u001b[0m\u001b[0;34m)\u001b[0m\u001b[0;34m\u001b[0m\u001b[0;34m\u001b[0m\u001b[0m\n\u001b[0m\u001b[1;32m   4358\u001b[0m \u001b[0;34m\u001b[0m\u001b[0m\n\u001b[1;32m   4359\u001b[0m     def _reduce(\n",
      "\u001b[0;32m~/opt/anaconda3/lib/python3.9/site-packages/pandas/core/apply.py\u001b[0m in \u001b[0;36mapply\u001b[0;34m(self)\u001b[0m\n\u001b[1;32m   1041\u001b[0m             \u001b[0;32mreturn\u001b[0m \u001b[0mself\u001b[0m\u001b[0;34m.\u001b[0m\u001b[0mapply_str\u001b[0m\u001b[0;34m(\u001b[0m\u001b[0;34m)\u001b[0m\u001b[0;34m\u001b[0m\u001b[0;34m\u001b[0m\u001b[0m\n\u001b[1;32m   1042\u001b[0m \u001b[0;34m\u001b[0m\u001b[0m\n\u001b[0;32m-> 1043\u001b[0;31m         \u001b[0;32mreturn\u001b[0m \u001b[0mself\u001b[0m\u001b[0;34m.\u001b[0m\u001b[0mapply_standard\u001b[0m\u001b[0;34m(\u001b[0m\u001b[0;34m)\u001b[0m\u001b[0;34m\u001b[0m\u001b[0;34m\u001b[0m\u001b[0m\n\u001b[0m\u001b[1;32m   1044\u001b[0m \u001b[0;34m\u001b[0m\u001b[0m\n\u001b[1;32m   1045\u001b[0m     \u001b[0;32mdef\u001b[0m \u001b[0magg\u001b[0m\u001b[0;34m(\u001b[0m\u001b[0mself\u001b[0m\u001b[0;34m)\u001b[0m\u001b[0;34m:\u001b[0m\u001b[0;34m\u001b[0m\u001b[0;34m\u001b[0m\u001b[0m\n",
      "\u001b[0;32m~/opt/anaconda3/lib/python3.9/site-packages/pandas/core/apply.py\u001b[0m in \u001b[0;36mapply_standard\u001b[0;34m(self)\u001b[0m\n\u001b[1;32m   1096\u001b[0m                 \u001b[0;31m# List[Union[Callable[..., Any], str]]]]]\"; expected\u001b[0m\u001b[0;34m\u001b[0m\u001b[0;34m\u001b[0m\u001b[0m\n\u001b[1;32m   1097\u001b[0m                 \u001b[0;31m# \"Callable[[Any], Any]\"\u001b[0m\u001b[0;34m\u001b[0m\u001b[0;34m\u001b[0m\u001b[0m\n\u001b[0;32m-> 1098\u001b[0;31m                 mapped = lib.map_infer(\n\u001b[0m\u001b[1;32m   1099\u001b[0m                     \u001b[0mvalues\u001b[0m\u001b[0;34m,\u001b[0m\u001b[0;34m\u001b[0m\u001b[0;34m\u001b[0m\u001b[0m\n\u001b[1;32m   1100\u001b[0m                     \u001b[0mf\u001b[0m\u001b[0;34m,\u001b[0m  \u001b[0;31m# type: ignore[arg-type]\u001b[0m\u001b[0;34m\u001b[0m\u001b[0;34m\u001b[0m\u001b[0m\n",
      "\u001b[0;32m~/opt/anaconda3/lib/python3.9/site-packages/pandas/_libs/lib.pyx\u001b[0m in \u001b[0;36mpandas._libs.lib.map_infer\u001b[0;34m()\u001b[0m\n",
      "\u001b[0;32m/var/folders/6y/7f8ql7d92zs0sclx2vbczpk80000gn/T/ipykernel_19961/1911790792.py\u001b[0m in \u001b[0;36m<lambda>\u001b[0;34m(x)\u001b[0m\n\u001b[0;32m----> 1\u001b[0;31m \u001b[0mdf_top_2_rows\u001b[0m\u001b[0;34m.\u001b[0m\u001b[0mloc\u001b[0m\u001b[0;34m[\u001b[0m\u001b[0;34m:\u001b[0m\u001b[0;34m,\u001b[0m \u001b[0;34m'top_concerns'\u001b[0m\u001b[0;34m]\u001b[0m \u001b[0;34m=\u001b[0m \u001b[0mdf_top_2_rows\u001b[0m\u001b[0;34m[\u001b[0m\u001b[0;34m'full_note'\u001b[0m\u001b[0;34m]\u001b[0m\u001b[0;34m.\u001b[0m\u001b[0mapply\u001b[0m\u001b[0;34m(\u001b[0m\u001b[0;32mlambda\u001b[0m \u001b[0mx\u001b[0m\u001b[0;34m:\u001b[0m \u001b[0mget_chat_response\u001b[0m\u001b[0;34m(\u001b[0m\u001b[0madditional\u001b[0m \u001b[0;34m+\u001b[0m \u001b[0mx\u001b[0m\u001b[0;34m)\u001b[0m\u001b[0;34m)\u001b[0m\u001b[0;34m\u001b[0m\u001b[0;34m\u001b[0m\u001b[0m\n\u001b[0m",
      "\u001b[0;31mNameError\u001b[0m: name 'additional' is not defined"
     ]
    }
   ],
   "source": [
    "df_top_2_rows.loc[:, 'top_concerns'] = df_top_2_rows['full_note'].apply(lambda x: get_chat_response(additional_text_4 + x))"
   ]
  },
  {
   "cell_type": "code",
   "execution_count": 10,
   "id": "e7d942bd",
   "metadata": {},
   "outputs": [],
   "source": [
    "df_top_2_rows.loc[:, 'top_concerns_str'] = df_top_2_rows['top_concerns'].apply(lambda x: str(x['content']) if isinstance(x, dict) and 'content' in x else str(x))"
   ]
  },
  {
   "cell_type": "code",
   "execution_count": 11,
   "id": "8d3e2f3f",
   "metadata": {},
   "outputs": [
    {
     "name": "stdout",
     "output_type": "stream",
     "text": [
      "model='llama3.2' created_at='2025-03-22T21:04:37.341153Z' done=True done_reason='stop' total_duration=132679365419 load_duration=7849318133 prompt_eval_count=1712 prompt_eval_duration=124542000000 eval_count=3 eval_duration=283000000 message=Message(role='assistant', content='very_low', images=None, tool_calls=None)\n",
      "model='llama3.2' created_at='2025-03-22T21:05:24.35378Z' done=True done_reason='stop' total_duration=46996778828 load_duration=67674299 prompt_eval_count=755 prompt_eval_duration=46674000000 eval_count=3 eval_duration=253000000 message=Message(role='assistant', content='very_low', images=None, tool_calls=None)\n"
     ]
    }
   ],
   "source": [
    "print(df_top_2_rows.top_concerns_str[0])\n",
    "print(df_top_2_rows.top_concerns_str[1])"
   ]
  },
  {
   "cell_type": "code",
   "execution_count": null,
   "id": "fe683fe7",
   "metadata": {},
   "outputs": [],
   "source": []
  },
  {
   "cell_type": "code",
   "execution_count": 12,
   "id": "4f2d3365",
   "metadata": {},
   "outputs": [],
   "source": [
    "df_top_5_rows = df.head(5)"
   ]
  },
  {
   "cell_type": "code",
   "execution_count": 16,
   "id": "89b0db72",
   "metadata": {},
   "outputs": [],
   "source": [
    "df_top_5_rows.loc[:, 'top_concerns'] = df_top_5_rows['full_note'].apply(lambda x: get_chat_response(additional_text + x))\n",
    "\n"
   ]
  },
  {
   "cell_type": "code",
   "execution_count": 17,
   "id": "9bf05efd",
   "metadata": {},
   "outputs": [],
   "source": [
    "df_top_5_rows.loc[:, 'top_concerns_str'] = df_top_5_rows['top_concerns'].apply(lambda x: str(x['content']) if isinstance(x, dict) and 'content' in x else str(x))\n",
    "\n"
   ]
  },
  {
   "cell_type": "code",
   "execution_count": 18,
   "id": "7dab27f4",
   "metadata": {},
   "outputs": [],
   "source": [
    "df_top_5_rows.loc[:, 'risk_level_abr'] = df_top_5_rows['top_concerns_str'].apply(lambda x: get_chat_response(additional_text_4 + x))"
   ]
  },
  {
   "cell_type": "code",
   "execution_count": 26,
   "id": "642d6c3e",
   "metadata": {},
   "outputs": [
    {
     "data": {
      "text/plain": [
       "ChatResponse(model='llama3.2', created_at='2025-03-22T21:20:41.716398Z', done=True, done_reason='stop', total_duration=171262887129, load_duration=69595186, prompt_eval_count=1721, prompt_eval_duration=140858000000, eval_count=219, eval_duration=30333000000, message=Message(role='assistant', content=\"As her primary care physician, I am concerned that this 16-year-old girl may develop serious medical complications in the next year due to her history of tardive dystonia caused by olanzapine. Her risk factors for developing a serious complication include: \\n\\nThe medication-induced dystonia could lead to severe neck and back pain, as well as muscle damage or paralysis, which may require hospitalization and surgical intervention. Additionally, the patient's ongoing use of tetrabenazine, which is an anticholinergic medication, may further exacerbate her symptoms and increase her risk for other adverse effects.\\n\\nThe patient's underlying bipolar affective disorder also presents a risk for severe medical complications in the next year, particularly if her mood symptoms worsen or she experiences a psychotic episode. Furthermore, her recent use of lithium carbonate and eltroxin may have masked symptoms of hypothyroidism, which could lead to thyroid crisis if not properly managed.\\n\\nMonitoring the patient closely for any signs of worsening dystonia, mood symptoms, or thyroid dysfunction is essential to prevent serious medical complications in the next year.\", images=None, tool_calls=None))"
      ]
     },
     "execution_count": 26,
     "metadata": {},
     "output_type": "execute_result"
    }
   ],
   "source": [
    "df_top_5_rows.top_concerns[0]"
   ]
  },
  {
   "cell_type": "code",
   "execution_count": 27,
   "id": "a08cf1dc",
   "metadata": {},
   "outputs": [
    {
     "data": {
      "text/plain": [
       "ChatResponse(model='llama3.2', created_at='2025-03-22T21:21:53.21594Z', done=True, done_reason='stop', total_duration=71490478510, load_duration=68571365, prompt_eval_count=763, prompt_eval_duration=48327000000, eval_count=183, eval_duration=23093000000, message=Message(role='assistant', content=\"Based on the patient's medical notes, here are four potential risk factors that could lead to a serious medical complication in the next year:\\n\\nThe patient's recent surgical procedure for resection of the tumor and surrounding tissue poses a risk of complications such as respiratory problems or pulmonary embolism due to dislodgement of blood clots. The patient's activity level is also a concern, as his surgery may have weakened his chest wall and increased his risk of injury during high-impact activities. Additionally, the patient's recent diagnosis of sclerosing xanthofibroma, a rare tumor, means that there is a possibility of future malignant transformation or recurrence, which could lead to serious complications if left untreated. Finally, the patient's past history of thoracic trauma and simple fracture of the 9th rib without any other consequences raises concerns about potential underlying bone disease or other structural issues in his thoracic spine.\", images=None, tool_calls=None))"
      ]
     },
     "execution_count": 27,
     "metadata": {},
     "output_type": "execute_result"
    }
   ],
   "source": [
    "df_top_5_rows.top_concerns[1]"
   ]
  },
  {
   "cell_type": "code",
   "execution_count": 20,
   "id": "4ae6a961",
   "metadata": {},
   "outputs": [
    {
     "data": {
      "text/plain": [
       "ChatResponse(model='llama3.2', created_at='2025-03-22T21:26:30.537756Z', done=True, done_reason='stop', total_duration=25601241949, load_duration=47918652, prompt_eval_count=390, prompt_eval_duration=25298000000, eval_count=3, eval_duration=253000000, message=Message(role='assistant', content='very_high', images=None, tool_calls=None))"
      ]
     },
     "execution_count": 20,
     "metadata": {},
     "output_type": "execute_result"
    }
   ],
   "source": [
    "df_top_5_rows.risk_level_abr[0]"
   ]
  },
  {
   "cell_type": "code",
   "execution_count": 28,
   "id": "edd41857",
   "metadata": {},
   "outputs": [
    {
     "data": {
      "text/plain": [
       "ChatResponse(model='llama3.2', created_at='2025-03-22T21:23:25.606993Z', done=True, done_reason='stop', total_duration=92384067058, load_duration=25732031, prompt_eval_count=969, prompt_eval_duration=63271000000, eval_count=224, eval_duration=29086000000, message=Message(role='assistant', content=\"Based on the medical notes provided, as a primary care physician, I would identify the following top risk factors for serious medical complications in the next year:\\n\\nThe patient's recent diagnosis of Cushing's syndrome due to an adrenocortical adenoma poses significant risks, including increased risk of cardiovascular disease, osteoporosis, and impaired glucose regulation. The patient's history of weight gain, central obesity, muscle mass reduction, and hypertension also increases their risk for developing type 2 diabetes, cardiovascular disease, and other metabolic disorders.\\n\\nFurthermore, the patient's recent laparoscopic partial adrenalectomy may have complications such as adrenal insufficiency, hyperaldosteronism, or infection. Additionally, the patient's history of hip joint replacement surgery and osteonecrosis of the femoral head increases their risk for future joint-related complications, such as loosening, wear, or implant failure.\\n\\nIt is essential to closely monitor this patient's condition, including their hormonal levels, cardiovascular parameters, and joint health, to prevent potential complications and ensure optimal management of their Cushing's syndrome and other comorbidities.\", images=None, tool_calls=None))"
      ]
     },
     "execution_count": 28,
     "metadata": {},
     "output_type": "execute_result"
    }
   ],
   "source": [
    "df_top_5_rows.top_concerns[2]"
   ]
  },
  {
   "cell_type": "code",
   "execution_count": 21,
   "id": "c1bf3717",
   "metadata": {},
   "outputs": [
    {
     "data": {
      "text/plain": [
       "ChatResponse(model='llama3.2', created_at='2025-03-22T21:26:47.878485Z', done=True, done_reason='stop', total_duration=17334972336, load_duration=23443867, prompt_eval_count=349, prompt_eval_duration=17068000000, eval_count=3, eval_duration=242000000, message=Message(role='assistant', content='very_high', images=None, tool_calls=None))"
      ]
     },
     "execution_count": 21,
     "metadata": {},
     "output_type": "execute_result"
    }
   ],
   "source": [
    "df_top_5_rows.risk_level_abr[1]"
   ]
  },
  {
   "cell_type": "code",
   "execution_count": 22,
   "id": "ce501e17",
   "metadata": {},
   "outputs": [
    {
     "data": {
      "text/plain": [
       "ChatResponse(model='llama3.2', created_at='2025-03-22T21:27:08.452422Z', done=True, done_reason='stop', total_duration=20567536158, load_duration=21901176, prompt_eval_count=394, prompt_eval_duration=20302000000, eval_count=3, eval_duration=242000000, message=Message(role='assistant', content='very_high', images=None, tool_calls=None))"
      ]
     },
     "execution_count": 22,
     "metadata": {},
     "output_type": "execute_result"
    }
   ],
   "source": [
    "df_top_5_rows.risk_level_abr[2]"
   ]
  },
  {
   "cell_type": "code",
   "execution_count": 23,
   "id": "ce89164b",
   "metadata": {},
   "outputs": [
    {
     "data": {
      "text/plain": [
       "ChatResponse(model='llama3.2', created_at='2025-03-22T21:27:24.925681Z', done=True, done_reason='stop', total_duration=16471431258, load_duration=25629918, prompt_eval_count=334, prompt_eval_duration=16199000000, eval_count=3, eval_duration=245000000, message=Message(role='assistant', content='very_high', images=None, tool_calls=None))"
      ]
     },
     "execution_count": 23,
     "metadata": {},
     "output_type": "execute_result"
    }
   ],
   "source": [
    "df_top_5_rows.risk_level_abr[3]"
   ]
  },
  {
   "cell_type": "code",
   "execution_count": 24,
   "id": "c301d2f2",
   "metadata": {},
   "outputs": [
    {
     "data": {
      "text/plain": [
       "ChatResponse(model='llama3.2', created_at='2025-03-22T21:27:42.592582Z', done=True, done_reason='stop', total_duration=17662621260, load_duration=22805144, prompt_eval_count=354, prompt_eval_duration=17512000000, eval_count=2, eval_duration=125000000, message=Message(role='assistant', content='high', images=None, tool_calls=None))"
      ]
     },
     "execution_count": 24,
     "metadata": {},
     "output_type": "execute_result"
    }
   ],
   "source": [
    "df_top_5_rows.risk_level_abr[4]"
   ]
  },
  {
   "cell_type": "code",
   "execution_count": null,
   "id": "8ac5f7c5",
   "metadata": {},
   "outputs": [],
   "source": []
  }
 ],
 "metadata": {
  "kernelspec": {
   "display_name": "Python 3 (ipykernel)",
   "language": "python",
   "name": "python3"
  },
  "language_info": {
   "codemirror_mode": {
    "name": "ipython",
    "version": 3
   },
   "file_extension": ".py",
   "mimetype": "text/x-python",
   "name": "python",
   "nbconvert_exporter": "python",
   "pygments_lexer": "ipython3",
   "version": "3.9.7"
  }
 },
 "nbformat": 4,
 "nbformat_minor": 5
}
